{
 "cells": [
  {
   "cell_type": "code",
   "execution_count": 1,
   "metadata": {},
   "outputs": [],
   "source": [
    "import pandas as pd\n",
    "import json\n",
    "import helpers\n",
    "from tqdm.notebook import tqdm\n",
    "import numpy as np\n",
    "from nltk.stem import PorterStemmer, WordNetLemmatizer\n",
    "from nltk.corpus import stopwords\n",
    "from nltk.tokenize import word_tokenize\n",
    "import multiprocessing as mp\n",
    "import os \n",
    "import math\n",
    "from functools import partial\n",
    "from gensim.parsing.preprocessing import preprocess_string, strip_tags, strip_punctuation, strip_multiple_whitespaces, strip_numeric, remove_stopwords, strip_short, stem_text\n",
    "\n",
    "DATA_DIR = 'data'\n",
    "\n",
    "stemmer = PorterStemmer()\n",
    "# Load the data from files\n",
    "with open(f'{DATA_DIR}/corpus.jsonl', 'r') as f:\n",
    "    corpus_data = {int(item['_id']): item['text'] for item in (json.loads(line) for line in f)}\n",
    "\n",
    "with open(f'{DATA_DIR}/queries.jsonl', 'r') as f:\n",
    "    queries_data = {int(item['_id']): item['text'] for item in (json.loads(line) for line in f)}\n",
    "\n",
    "train_data = pd.read_csv(f'{DATA_DIR}/task1_train.tsv', delimiter='\\t')\n",
    "test_data = pd.read_csv(f'{DATA_DIR}/task1_test.tsv', delimiter='\\t')\n",
    "\n",
    "# Rename corpus-id to document_id and query-id to query_id in both train and test data\n",
    "train_data = train_data.rename(columns={'corpus-id': 'document_id', 'query-id': 'query_id'})\n",
    "test_data = test_data.rename(columns={'corpus-id': 'document_id', 'query-id': 'query_id'})\n",
    "# Make sure that the document_id and query_id are int64\n",
    "train_data['document_id'] = train_data['document_id'].astype('int64')\n",
    "train_data['query_id'] = train_data['query_id'].astype('int64')\n",
    "CUSTOM_FILTERS = [lambda x: x.lower(), strip_tags, strip_punctuation, lambda x: strip_short(s=x,minsize=1), strip_multiple_whitespaces, remove_stopwords, stem_text]"
   ]
  },
  {
   "cell_type": "code",
   "execution_count": 2,
   "metadata": {},
   "outputs": [],
   "source": [
    "# Create a df from the corpus data\n",
    "corpus_df = pd.DataFrame.from_dict(corpus_data, orient='index', columns=['text'])\n",
    "# Create a df from the queries data\n",
    "queries_df = pd.DataFrame.from_dict(queries_data, orient='index', columns=['text'])"
   ]
  },
  {
   "cell_type": "code",
   "execution_count": 3,
   "metadata": {},
   "outputs": [],
   "source": [
    "import numpy as np\n",
    "from sklearn.metrics.pairwise import cosine_similarity\n",
    "from gensim.models import KeyedVectors\n",
    "\n",
    "# Load the pre-trained GloVe vectors\n",
    "glove_file = f'{DATA_DIR}/glove.840B/glove.840B.300d.txt'\n",
    "google_word2vec = f'{DATA_DIR}/GoogleNews-vectors-negative300.bin'\n",
    "word_vectors = KeyedVectors.load_word2vec_format(glove_file, binary=False, no_header=True)"
   ]
  },
  {
   "cell_type": "code",
   "execution_count": 4,
   "metadata": {},
   "outputs": [],
   "source": [
    "# save the word vectors to a file\n",
    "# word_vectors.save_word2vec_format(f'{DATA_DIR}/glove_word2vec.bin', binary=True)"
   ]
  },
  {
   "cell_type": "code",
   "execution_count": 4,
   "metadata": {},
   "outputs": [],
   "source": [
    "def embeddings(word):\n",
    "    if word in word_vectors.key_to_index:\n",
    "        return word_vectors.get_vector(word)\n",
    "    else:\n",
    "        return np.zeros(300)"
   ]
  },
  {
   "cell_type": "code",
   "execution_count": 5,
   "metadata": {},
   "outputs": [],
   "source": [
    "# Define a function to compute the document vectors\n",
    "def compute_doc_vectors(docs, word_vectors):\n",
    "    doc_vectors = []\n",
    "    for doc in tqdm(docs):\n",
    "        wv = [embeddings(x) for x in doc]\n",
    "        if len(wv) == 0:\n",
    "            doc_vectors.append(np.zeros(word_vectors.vector_size))\n",
    "        if len(wv) > 0:\n",
    "            wv = np.array(wv)\n",
    "            #print('wv shape ', wv.shape)\n",
    "            doc_vector = wv.mean(axis=0)\n",
    "            doc_vectors.append(doc_vector)\n",
    "    return np.array(doc_vectors)\n",
    "\n",
    "# Define a function to compute the document vectors\n",
    "def compute_doc_vectors_idf(docs, word_vectors, idfs):\n",
    "    doc_vectors = []\n",
    "    for doc in tqdm(docs):\n",
    "        wv = [word_vectors.get_vector(word) for word in doc if word in word_vectors.key_to_index]\n",
    "        weights = [idfs[word] for word in doc if word in word_vectors.key_to_index]\n",
    "        if len(wv) == 0:\n",
    "            doc_vectors.append(np.zeros(word_vectors.vector_size))\n",
    "        if len(wv) > 0:\n",
    "            wv = np.array(wv)\n",
    "            #print('wv shape ', wv.shape)\n",
    "            doc_vector = np.average(wv, axis=0, weights=weights)\n",
    "            doc_vectors.append(doc_vector)\n",
    "    return np.array(doc_vectors)\n",
    "\n",
    "# Define a function to perform document retrieval\n",
    "def retrieve_documents(query, docs, k=10):\n",
    "    query_vector = compute_doc_vectors([query])[0]\n",
    "    doc_vectors = compute_doc_vectors(docs)\n",
    "    sim_scores = cosine_similarity(query_vector.reshape(1, -1), doc_vectors)\n",
    "    sim_scores = sim_scores[0]\n",
    "    top_k_indexes = np.argsort(sim_scores)[::-1][:k]\n",
    "    return [(docs[i], sim_scores[i]) for i in top_k_indexes]"
   ]
  },
  {
   "cell_type": "code",
   "execution_count": 6,
   "metadata": {},
   "outputs": [],
   "source": [
    "from nltk.tokenize.toktok import ToktokTokenizer\n",
    "import re\n",
    "tokenizer = ToktokTokenizer()\n",
    "import nltk\n",
    "import itertools\n",
    "from nltk.corpus import stopwords\n",
    "from nltk.tokenize import sent_tokenize, word_tokenize\n",
    "stopword_list = nltk.corpus.stopwords.words('english')\n",
    "def data_clean(text):\n",
    "    pattern = r'[^a-zA-Z0-9\\s]'\n",
    "    text = re.sub(pattern,'',' '.join(text))\n",
    "    tokens = [token.strip() for token in text.split()]\n",
    "    filtered = [token for token in tokens if token.lower() not in stopword_list]\n",
    "    filtered = ' '.join(filtered)\n",
    "    return filtered"
   ]
  },
  {
   "cell_type": "code",
   "execution_count": 21,
   "metadata": {},
   "outputs": [
    {
     "data": {
      "application/vnd.jupyter.widget-view+json": {
       "model_id": "3b754b68998043b7a401a7f08a7ec914",
       "version_major": 2,
       "version_minor": 0
      },
      "text/plain": [
       "  0%|          | 0/1471406 [00:00<?, ?it/s]"
      ]
     },
     "metadata": {},
     "output_type": "display_data"
    }
   ],
   "source": [
    "# from gensim.utils import simple_preprocess\n",
    "\n",
    "# documents = corpus_df['text'].tolist()\n",
    "# documents = [x.strip() for x in documents]\n",
    "# documents = [preprocess_string(x, CUSTOM_FILTERS) for x in tqdm(documents,total=len(documents))]\n",
    "# # save documents to a pickle file\n",
    "# import pickle\n",
    "# with open(f'{DATA_DIR}/documents_preprocess_string_no_stopwords.pkl', 'wb') as f:\n",
    "#     pickle.dump(documents, f)\n",
    "\n",
    "# -----------------------------------------------------------------\n",
    "# documents = corpus_df['text'].tolist()\n",
    "# documents = [x.strip() for x in documents]\n",
    "# documents = [data_clean(nltk.word_tokenize(x)) for x in tqdm(documents,total=len(documents))]\n",
    "\n",
    "# import pickle\n",
    "# with open(f'{DATA_DIR}/documents_preprocess_custom.pkl', 'wb') as f:\n",
    "#     pickle.dump(documents, f)"
   ]
  },
  {
   "cell_type": "code",
   "execution_count": 8,
   "metadata": {},
   "outputs": [],
   "source": [
    "# load documents from pkl file\n",
    "import pickle\n",
    "with open(f'{DATA_DIR}/documents_preprocess_string_no_stopwords.pkl', 'rb') as f:\n",
    "    documents = pickle.load(f)"
   ]
  },
  {
   "cell_type": "code",
   "execution_count": 14,
   "metadata": {},
   "outputs": [
    {
     "data": {
      "application/vnd.jupyter.widget-view+json": {
       "model_id": "1b9f9a76e85745f6b4de4adedfe52255",
       "version_major": 2,
       "version_minor": 0
      },
      "text/plain": [
       "  0%|          | 0/1471406 [00:00<?, ?it/s]"
      ]
     },
     "metadata": {},
     "output_type": "display_data"
    }
   ],
   "source": [
    "# Compute the number of documents that contain each word\n",
    "doc_freqs = {}\n",
    "for doc in tqdm(documents):\n",
    "    for word in set(doc):\n",
    "        doc_freqs[word] = doc_freqs.get(word, 0) + 1"
   ]
  },
  {
   "cell_type": "code",
   "execution_count": 15,
   "metadata": {},
   "outputs": [],
   "source": [
    "num_docs = len(documents)\n",
    "# idfs = {word: math.log(num_docs / freq) for word, freq in doc_freqs.items()}\n",
    "idfs = {word: math.log((num_docs - freq + 0.5)/(freq + 0.5)+1) for word, freq in doc_freqs.items()}"
   ]
  },
  {
   "cell_type": "code",
   "execution_count": 16,
   "metadata": {},
   "outputs": [
    {
     "data": {
      "application/vnd.jupyter.widget-view+json": {
       "model_id": "9f779e8706a348ecb147f54c37fe658c",
       "version_major": 2,
       "version_minor": 0
      },
      "text/plain": [
       "  0%|          | 0/1471406 [00:00<?, ?it/s]"
      ]
     },
     "metadata": {},
     "output_type": "display_data"
    }
   ],
   "source": [
    "doc_vecs = compute_doc_vectors(docs=documents, word_vectors=word_vectors)"
   ]
  },
  {
   "cell_type": "code",
   "execution_count": 17,
   "metadata": {},
   "outputs": [
    {
     "data": {
      "application/vnd.jupyter.widget-view+json": {
       "model_id": "813a018beb85446386a2e59af525e609",
       "version_major": 2,
       "version_minor": 0
      },
      "text/plain": [
       "  0%|          | 0/1471406 [00:00<?, ?it/s]"
      ]
     },
     "metadata": {},
     "output_type": "display_data"
    }
   ],
   "source": [
    "doc_vecs_idf = compute_doc_vectors_idf(docs=documents, word_vectors=word_vectors, idfs=idfs)"
   ]
  },
  {
   "cell_type": "code",
   "execution_count": 11,
   "metadata": {},
   "outputs": [
    {
     "data": {
      "application/vnd.jupyter.widget-view+json": {
       "model_id": "01c523e4df5147b6a68414e3fd9e6b1b",
       "version_major": 2,
       "version_minor": 0
      },
      "text/plain": [
       "  0%|          | 0/1471406 [00:00<?, ?it/s]"
      ]
     },
     "metadata": {},
     "output_type": "display_data"
    },
    {
     "name": "stdout",
     "output_type": "stream",
     "text": [
      "238588 450133 0.34642184571110796\n"
     ]
    }
   ],
   "source": [
    "total_in = 0\n",
    "total_not_in = 0\n",
    "seen_words = set()\n",
    "words_not_in = set()\n",
    "words_in = set()\n",
    "\n",
    "for doc in tqdm(documents, total=len(documents)):\n",
    "    for word in doc:\n",
    "        if word in word_vectors.key_to_index:\n",
    "            if word not in seen_words:\n",
    "                total_in += 1\n",
    "                seen_words.add(word)\n",
    "                words_in.add(word)\n",
    "        else:\n",
    "            if word not in seen_words:\n",
    "                seen_words.add(word)\n",
    "                total_not_in += 1\n",
    "                words_not_in.add(word)\n",
    "\n",
    "print(total_in, total_not_in, total_in/(total_in+total_not_in))"
   ]
  },
  {
   "cell_type": "code",
   "execution_count": 19,
   "metadata": {},
   "outputs": [
    {
     "name": "stdout",
     "output_type": "stream",
     "text": [
      "['immedi', 'impact', 'success', 'manhattan', 'project']\n"
     ]
    },
    {
     "data": {
      "application/vnd.jupyter.widget-view+json": {
       "model_id": "3acdcadb03924264bd2db243f393c18f",
       "version_major": 2,
       "version_minor": 0
      },
      "text/plain": [
       "  0%|          | 0/1 [00:00<?, ?it/s]"
      ]
     },
     "metadata": {},
     "output_type": "display_data"
    }
   ],
   "source": [
    "# get the first query\n",
    "query = queries_df.iloc[0].text\n",
    "query = query.strip()\n",
    "query = preprocess_string(query, CUSTOM_FILTERS)\n",
    "print(query)\n",
    "# retrieve the top 10 documents\n",
    "query_vector = compute_doc_vectors([query], word_vectors=word_vectors)[0]"
   ]
  },
  {
   "cell_type": "code",
   "execution_count": 20,
   "metadata": {},
   "outputs": [
    {
     "data": {
      "text/plain": [
       "(1, 1471406)"
      ]
     },
     "execution_count": 20,
     "metadata": {},
     "output_type": "execute_result"
    }
   ],
   "source": [
    "sim_scores = cosine_similarity(query_vector.reshape(1, -1), doc_vecs)\n",
    "sim_scores.shape"
   ]
  },
  {
   "cell_type": "code",
   "execution_count": 21,
   "metadata": {},
   "outputs": [
    {
     "name": "stdout",
     "output_type": "stream",
     "text": [
      "10\n",
      "Document id  7243450\n",
      "The project was given its name due to the fact that at least 10 of the sites used for the research were located in Manhattan. Following is a timeline of the key events related to the development of the atomic bomb and the Manhattan Project. Manhattan Project Timeline\n",
      "Score:  0.7496238455407507\n",
      "Document id  7408257\n",
      "This is due to the fact that each change to the scope of the project will have an impact on the deadlines of the deliverables, so the changes may increase project cost by increasing the effort needed for the project.\n",
      "Score:  0.7419746842421292\n",
      "Document id  5775868\n",
      "The project risk plan balances the investment of the mitigation against the benefit for the project. The project team often develops an alternative method for accomplishing a project goal when a risk event has been identified that may frustrate the accomplishment of that goal. These plans are called contingency plans.\n",
      "Score:  0.7390905693414698\n",
      "Document id  1597822\n",
      "Downtown Columbus Strategic Development Plan. The Downtown Columbus Strategic Development Plan is a planned process in attracting growth and development into the downtown area of Columbus. The Downtown Columbus Strategic Development Plan is available for download in its entirety or split into four sections for your convenience.\n",
      "Score:  0.7386848223100587\n",
      "Document id  4314198\n",
      "The objectives of both project management. and the project are different and the control of time, cost. and progress, which are often the project management. objectives, should not be confused with measuring project. success.\n",
      "Score:  0.7331214339731481\n",
      "Document id  5884150\n",
      "Stakeholder management is critical to the success of every project in every organization I have ever worked with. By engaging the right people in the right way in your project, you can make a big difference to its success... and to your career. â Rachel Thompson (Mind Tools), experienced change management consultant.\n",
      "Score:  0.7318172259104163\n",
      "Document id  4743321\n",
      "In the case of an architectural firm, Revit MEP may be used to fast-track the design and construction of a military community hospital; leveraging BIM to allow everyone involved in the project to explore, visualize, and understand the outcomes of design choices from the earliest stages of the project.\n",
      "Score:  0.7313490934897526\n",
      "Document id  1513783\n",
      "Implementing projects -- putting planned projects into action -- is important to both strategic planning efforts and project managers in a number of ways. All managers can benefit from understanding the importance of project implementation to strategic planning and the project manager.trategic planning is the act of creating short-and long-term plans to guide an organization to continued and increasing success in the marketplace. Project managers oversee specific projects ultimately designed to make progress toward strategic planning objectives.\n",
      "Score:  0.7298268697146912\n",
      "Document id  2395246\n",
      "The Manhattan Project was a research and development project that produced the first atomic bombs during World War II. Here's an answer: The Manhattan Project was a movie made about Peter Stuyvesant's quest to buy the island of Manhattan from Native Americans back in the 1600s. For a better answer, look below.\n",
      "Score:  0.7284949476497686\n",
      "Document id  4411414\n",
      "From Wikipedia, the free encyclopedia. Project risk management is an important aspect of project management. According to the Project Management Institute's PMBOK, Risk management is one of the ten knowledge areas in which a project manager must be competent. Project risk is defined by PMI as, an uncertain event or condition that, if it occurs, has a positive or negative effect on a projectâs objectives..\n",
      "Score:  0.7276970597112405\n"
     ]
    }
   ],
   "source": [
    "# get the top 10 documents\n",
    "top_k_indexes = np.argsort(sim_scores[0])[::-1][:10]\n",
    "print(len(top_k_indexes))\n",
    "for i in top_k_indexes:\n",
    "    # get the index from corpus_df\n",
    "    print(f'Document id ', corpus_df.iloc[i].name)\n",
    "    # get the text from corpus_df\n",
    "    print(corpus_df.iloc[i].text)\n",
    "    # print score\n",
    "    print('Score: ', sim_scores[0][i])\n"
   ]
  },
  {
   "cell_type": "code",
   "execution_count": 22,
   "metadata": {},
   "outputs": [
    {
     "data": {
      "application/vnd.jupyter.widget-view+json": {
       "model_id": "79e0da1e6ec94e8894ac081357ca1eaa",
       "version_major": 2,
       "version_minor": 0
      },
      "text/plain": [
       "  0%|          | 0/1 [00:00<?, ?it/s]"
      ]
     },
     "metadata": {},
     "output_type": "display_data"
    }
   ],
   "source": [
    "query_vector_idf = compute_doc_vectors_idf([query], word_vectors=word_vectors, idfs=idfs)[0]"
   ]
  },
  {
   "cell_type": "code",
   "execution_count": 23,
   "metadata": {},
   "outputs": [
    {
     "data": {
      "text/plain": [
       "(1, 1471406)"
      ]
     },
     "execution_count": 23,
     "metadata": {},
     "output_type": "execute_result"
    }
   ],
   "source": [
    "sim_scores = cosine_similarity(query_vector_idf.reshape(1, -1), doc_vecs_idf)\n",
    "sim_scores.shape"
   ]
  },
  {
   "cell_type": "code",
   "execution_count": 24,
   "metadata": {},
   "outputs": [
    {
     "name": "stdout",
     "output_type": "stream",
     "text": [
      "10\n",
      "Document id  3827898\n",
      "It is the respon-sibility of organizational strategic leadership toconsider the external and internal business environ-ment and make sense of complexity when creatingthe organizationâs vision, mission and strategies,and planning their implementation.ork is more than just a pay-check for many. People love having a largerpurpose for what they do and they want tofeel pride in their work. A good vision cangive larger meaning to work by clarifyingits purpose, its interrelationship with otherwork and its impact on the organization asa whole.\n",
      "Score:  0.6017698813646459\n",
      "Document id  8841437\n",
      "This is a very special organizati on, with a truly wonderful vision of how they want to continue the Laura Ingalls Wilder and Little House on the Prairie story for future generation s! The leadership a... re personally involved on a daily basis with a vested interest in the successful implementa tion of the mission, and the impact that this historic site can have.\n",
      "Score:  0.5990484925663462\n",
      "Document id  6225967\n",
      "The Kepner-Tregoe Approach The foundation for manufacturing excellence, then, lies in a sys-tematic approach to several organization capability and techni-cal systems levers for change, and in the development of a cul-ture moving towards high-performance involvement.tep 2: Leadership Work Session to first develop commitmentto a common vision of manufacturing excellence, then to agreeon high-priority improvement areas and develop plans for ad-dressing those areas and for tailoring of pertinent Process Appli-cation Kits (PAKs).\n",
      "Score:  0.5878593913827317\n",
      "Document id  231632\n",
      "growth of this historic community and Schoharie County. Sharon Springsâ Main Street continues to be at the center of the village's economic and cultural revitalization. Sharon Springs, Inc. (SSI), a private developer, incentivized by a one million dollar Restore New York grant through Empire State Development, has begun a nine million\n",
      "Score:  0.5732965461424023\n",
      "Document id  1597822\n",
      "Downtown Columbus Strategic Development Plan. The Downtown Columbus Strategic Development Plan is a planned process in attracting growth and development into the downtown area of Columbus. The Downtown Columbus Strategic Development Plan is available for download in its entirety or split into four sections for your convenience.\n",
      "Score:  0.5727987793446628\n",
      "Document id  5146725\n",
      "Capital Improvement Plan. Arlington County Government develops a 10-year Capital Improvement Plan (CIP). The Capital Improvement Plan (CIP) is one of the most significant planning processes for Arlington County and Arlington Public Schools. This plan identifies the capital needs of the community over a specified period of time.\n",
      "Score:  0.5714422801405956\n",
      "Document id  1787415\n",
      "Education Action Plan. Introduction. The aim of the Education Action Plan is to formulate strategies and provide investm ent. priorities for the reconstruction, reform and development of the countryâs education system in. order to make it more relevant and responsive to the present needs of Adlabad society. The.\n",
      "Score:  0.5695510283953017\n",
      "Document id  3764837\n",
      "U.S. Environmental Protection Agency. Video Highlights. Administrator Scott Pruitt met with members of EPA's Superfund Taskforce to discuss revitalizing the program to expedite cleanups and remediation, engaging partners and stakeholders, and promoting redevelopment and community improvement.\n",
      "Score:  0.565205306808969\n",
      "Document id  2395246\n",
      "The Manhattan Project was a research and development project that produced the first atomic bombs during World War II. Here's an answer: The Manhattan Project was a movie made about Peter Stuyvesant's quest to buy the island of Manhattan from Native Americans back in the 1600s. For a better answer, look below.\n",
      "Score:  0.5649805077812005\n",
      "Document id  1197959\n",
      "HGL staff has provided outstanding service over the course of these projects [and] has been a tremendous asset for the USACE in meeting the remediation goals for the Environmental Restoration Program (ERP) projects at the Duluth IAP.\n",
      "Score:  0.563456587988102\n"
     ]
    }
   ],
   "source": [
    "# get the top 10 documents\n",
    "top_k_indexes = np.argsort(sim_scores[0])[::-1][:10]\n",
    "print(len(top_k_indexes))\n",
    "for i in top_k_indexes:\n",
    "    # get the index from corpus_df\n",
    "    print(f'Document id ', corpus_df.iloc[i].name)\n",
    "    # get the text from corpus_df\n",
    "    print(corpus_df.iloc[i].text)\n",
    "    # print score\n",
    "    print('Score: ', sim_scores[0][i])\n"
   ]
  },
  {
   "cell_type": "code",
   "execution_count": 57,
   "metadata": {},
   "outputs": [
    {
     "name": "stdout",
     "output_type": "stream",
     "text": [
      "['fasttext-wiki-news-subwords-300', 'conceptnet-numberbatch-17-06-300', 'word2vec-ruscorpora-300', 'word2vec-google-news-300', 'glove-wiki-gigaword-50', 'glove-wiki-gigaword-100', 'glove-wiki-gigaword-200', 'glove-wiki-gigaword-300', 'glove-twitter-25', 'glove-twitter-50', 'glove-twitter-100', 'glove-twitter-200', '__testing_word2vec-matrix-synopsis']\n"
     ]
    }
   ],
   "source": [
    "import gensim.downloader\n",
    "print(list(gensim.downloader.info()['models'].keys()))"
   ]
  },
  {
   "cell_type": "code",
   "execution_count": 60,
   "metadata": {},
   "outputs": [
    {
     "name": "stdout",
     "output_type": "stream",
     "text": [
      "[==================================================] 100.0% 1168.7/1168.7MB downloaded\n"
     ]
    }
   ],
   "source": [
    "glove_vectors = gensim.downloader.load('conceptnet-numberbatch-17-06-300')"
   ]
  },
  {
   "cell_type": "code",
   "execution_count": 13,
   "metadata": {},
   "outputs": [
    {
     "data": {
      "application/vnd.jupyter.widget-view+json": {
       "model_id": "58841f68ed29487389e40c962e82e074",
       "version_major": 2,
       "version_minor": 0
      },
      "text/plain": [
       "  0%|          | 0/1471406 [00:00<?, ?it/s]"
      ]
     },
     "metadata": {},
     "output_type": "display_data"
    }
   ],
   "source": [
    "doc_vecs = compute_doc_vectors(docs=documents, word_vectors=glove_vectors)"
   ]
  },
  {
   "cell_type": "code",
   "execution_count": 64,
   "metadata": {},
   "outputs": [
    {
     "ename": "KeyError",
     "evalue": "\"Key 'hello' not present\"",
     "output_type": "error",
     "traceback": [
      "\u001b[0;31m---------------------------------------------------------------------------\u001b[0m",
      "\u001b[0;31mKeyError\u001b[0m                                  Traceback (most recent call last)",
      "Cell \u001b[0;32mIn[64], line 1\u001b[0m\n\u001b[0;32m----> 1\u001b[0m glove_vectors\u001b[39m.\u001b[39;49mget_vector(\u001b[39m'\u001b[39;49m\u001b[39mhello\u001b[39;49m\u001b[39m'\u001b[39;49m)\n",
      "File \u001b[0;32m~/Documents/distributed info/Project 1/.venv/lib/python3.11/site-packages/gensim/models/keyedvectors.py:446\u001b[0m, in \u001b[0;36mKeyedVectors.get_vector\u001b[0;34m(self, key, norm)\u001b[0m\n\u001b[1;32m    422\u001b[0m \u001b[39mdef\u001b[39;00m \u001b[39mget_vector\u001b[39m(\u001b[39mself\u001b[39m, key, norm\u001b[39m=\u001b[39m\u001b[39mFalse\u001b[39;00m):\n\u001b[1;32m    423\u001b[0m \u001b[39m    \u001b[39m\u001b[39m\"\"\"Get the key's vector, as a 1D numpy array.\u001b[39;00m\n\u001b[1;32m    424\u001b[0m \n\u001b[1;32m    425\u001b[0m \u001b[39m    Parameters\u001b[39;00m\n\u001b[0;32m   (...)\u001b[0m\n\u001b[1;32m    444\u001b[0m \n\u001b[1;32m    445\u001b[0m \u001b[39m    \"\"\"\u001b[39;00m\n\u001b[0;32m--> 446\u001b[0m     index \u001b[39m=\u001b[39m \u001b[39mself\u001b[39;49m\u001b[39m.\u001b[39;49mget_index(key)\n\u001b[1;32m    447\u001b[0m     \u001b[39mif\u001b[39;00m norm:\n\u001b[1;32m    448\u001b[0m         \u001b[39mself\u001b[39m\u001b[39m.\u001b[39mfill_norms()\n",
      "File \u001b[0;32m~/Documents/distributed info/Project 1/.venv/lib/python3.11/site-packages/gensim/models/keyedvectors.py:420\u001b[0m, in \u001b[0;36mKeyedVectors.get_index\u001b[0;34m(self, key, default)\u001b[0m\n\u001b[1;32m    418\u001b[0m     \u001b[39mreturn\u001b[39;00m default\n\u001b[1;32m    419\u001b[0m \u001b[39melse\u001b[39;00m:\n\u001b[0;32m--> 420\u001b[0m     \u001b[39mraise\u001b[39;00m \u001b[39mKeyError\u001b[39;00m(\u001b[39mf\u001b[39m\u001b[39m\"\u001b[39m\u001b[39mKey \u001b[39m\u001b[39m'\u001b[39m\u001b[39m{\u001b[39;00mkey\u001b[39m}\u001b[39;00m\u001b[39m'\u001b[39m\u001b[39m not present\u001b[39m\u001b[39m\"\u001b[39m)\n",
      "\u001b[0;31mKeyError\u001b[0m: \"Key 'hello' not present\""
     ]
    }
   ],
   "source": [
    "glove_vectors.get_vector('hello')"
   ]
  },
  {
   "cell_type": "code",
   "execution_count": 61,
   "metadata": {},
   "outputs": [
    {
     "data": {
      "application/vnd.jupyter.widget-view+json": {
       "model_id": "03da28ff4c9c4d0780e454375cdb2e6e",
       "version_major": 2,
       "version_minor": 0
      },
      "text/plain": [
       "  0%|          | 0/1471406 [00:00<?, ?it/s]"
      ]
     },
     "metadata": {},
     "output_type": "display_data"
    },
    {
     "name": "stdout",
     "output_type": "stream",
     "text": [
      "0 1246359 0.0\n"
     ]
    }
   ],
   "source": [
    "total_in = 0\n",
    "total_not_in = 0\n",
    "seen_words = set()\n",
    "\n",
    "for doc in tqdm(documents, total=len(documents)):\n",
    "    for word in doc:\n",
    "        if word in glove_vectors.key_to_index:\n",
    "            if word not in seen_words:\n",
    "                total_in += 1\n",
    "                seen_words.add(word)\n",
    "        else:\n",
    "            if word not in seen_words:\n",
    "                seen_words.add(word)\n",
    "                total_not_in += 1\n",
    "\n",
    "print(total_in, total_not_in, total_in/(total_in+total_not_in))"
   ]
  },
  {
   "cell_type": "code",
   "execution_count": 15,
   "metadata": {},
   "outputs": [
    {
     "data": {
      "application/vnd.jupyter.widget-view+json": {
       "model_id": "71af043a15e04f65abb1dd32711b3202",
       "version_major": 2,
       "version_minor": 0
      },
      "text/plain": [
       "  0%|          | 0/1471406 [00:00<?, ?it/s]"
      ]
     },
     "metadata": {},
     "output_type": "display_data"
    }
   ],
   "source": [
    "doc_vecs_idf = compute_doc_vectors_idf(docs=documents, word_vectors=glove_vectors, idfs=idfs)"
   ]
  },
  {
   "cell_type": "code",
   "execution_count": 17,
   "metadata": {},
   "outputs": [
    {
     "name": "stdout",
     "output_type": "stream",
     "text": [
      "['immediate', 'impact', 'success', 'manhattan', 'project']\n"
     ]
    }
   ],
   "source": [
    "# get the first query\n",
    "query = queries_df.iloc[0].text\n",
    "query = preprocess_string(query, CUSTOM_FILTERS)\n",
    "print(query)"
   ]
  },
  {
   "cell_type": "code",
   "execution_count": 18,
   "metadata": {},
   "outputs": [
    {
     "data": {
      "application/vnd.jupyter.widget-view+json": {
       "model_id": "2208229ac01d4edebfc122dbfad6379d",
       "version_major": 2,
       "version_minor": 0
      },
      "text/plain": [
       "  0%|          | 0/1 [00:00<?, ?it/s]"
      ]
     },
     "metadata": {},
     "output_type": "display_data"
    }
   ],
   "source": [
    "query_vector = compute_doc_vectors([query], word_vectors=glove_vectors)[0]"
   ]
  },
  {
   "cell_type": "code",
   "execution_count": 19,
   "metadata": {},
   "outputs": [
    {
     "data": {
      "application/vnd.jupyter.widget-view+json": {
       "model_id": "78f435eb21404096a1fecf5e3860a499",
       "version_major": 2,
       "version_minor": 0
      },
      "text/plain": [
       "  0%|          | 0/1 [00:00<?, ?it/s]"
      ]
     },
     "metadata": {},
     "output_type": "display_data"
    }
   ],
   "source": [
    "query_vector_idf = compute_doc_vectors_idf([query], word_vectors=glove_vectors, idfs=idfs)[0]"
   ]
  },
  {
   "cell_type": "code",
   "execution_count": 24,
   "metadata": {},
   "outputs": [],
   "source": [
    "from sklearn.metrics.pairwise import cosine_similarity\n",
    "\n",
    "sim = cosine_similarity(query_vector.reshape(1, -1), doc_vecs)\n",
    "sim_idf = cosine_similarity(query_vector_idf.reshape(1, -1), doc_vecs_idf)"
   ]
  },
  {
   "cell_type": "code",
   "execution_count": 25,
   "metadata": {},
   "outputs": [
    {
     "name": "stdout",
     "output_type": "stream",
     "text": [
      "10\n",
      "Document id  1541595\n",
      "The process of project management is an integrative oneâan action (or failure to take action) in one area will usually affect other areas. For example, a scope change will almost always affect cost and schedule estimates, but it may also have an impact on other factors as diverse as team morale and product quality.\n",
      "Score:  0.8968486818440411\n",
      "Document id  4314198\n",
      "The objectives of both project management. and the project are different and the control of time, cost. and progress, which are often the project management. objectives, should not be confused with measuring project. success.\n",
      "Score:  0.894768419850468\n",
      "Document id  7408257\n",
      "This is due to the fact that each change to the scope of the project will have an impact on the deadlines of the deliverables, so the changes may increase project cost by increasing the effort needed for the project.\n",
      "Score:  0.891107974098197\n",
      "Document id  7408263\n",
      "This characteristic reflects the advanced stage at which project control becomes important. The time at which major cost savings can be achieved is during planning and design for the project. During the actual construction, changes are likely to delay the project and lead to inordinate cost increases.\n",
      "Score:  0.8901520676214028\n",
      "Document id  2407990\n",
      "the verb impact has developed the transitive sense to have an impact or effect on the structured reading program has done more to impact the elementary schools than any other single factor and the intransitive sense to have an impact or effect the work done at the computer center will impact on the economy of illinois and the nation\n",
      "Score:  0.8898270835366258\n",
      "Document id  5286547\n",
      "Success is a primary project term derived from actual project needs and stakeholder expections. At the broadest level, success is measured as a byproduct of timeliness, expenditures, and the extent to which project goals and objectives are delivered.\n",
      "Score:  0.8896864120427626\n",
      "Document id  601542\n",
      "Earned value management (EVM), or Earned value project/performance management (EVPM) is a project management technique for measuring project performance and progress in an objective manner.he actual critical path is ultimately the determining factor of every project's duration. Because earned value schedule metrics take no account of critical path data, big budget activities that are not on the critical path have the potential to dwarf the impact of performing small budget critical path activities.\n",
      "Score:  0.8889362397348304\n",
      "Document id  1025529\n",
      "Using Project management software will help you to be more efficient at your job. More correctly referred to as impact analysis a key skill required toward the final stages of a project is the ability to analyse the impact of changes brought about by the project.\n",
      "Score:  0.886573784890466\n",
      "Document id  2680839\n",
      "Because of this, I motivate my discussion of the evidence by appealing to this life-course, or sequential, approach which splits the impact of education into a two-stage process: first, the impact of disadvantage on education over the life-course; second, the impact of education on adult economic and social outcomes.\n",
      "Score:  0.8860143825001825\n",
      "Document id  2482092\n",
      "They can start by considering the health impact of development and transportation projects, much the same way they consider the environmental impact of these projects. (67) Such changes will be essential to achieve the goal of making physical activity a regular and natural part of peopleâs daily lives.\n",
      "Score:  0.8820095622764501\n"
     ]
    }
   ],
   "source": [
    "# get the top 10 documents\n",
    "top_k_indexes = np.argsort(sim[0])[::-1][:10]\n",
    "print(len(top_k_indexes))\n",
    "for i in top_k_indexes:\n",
    "    # get the index from corpus_df\n",
    "    print(f'Document id ', corpus_df.iloc[i].name)\n",
    "    # get the text from corpus_df\n",
    "    print(corpus_df.iloc[i].text)\n",
    "    # print score\n",
    "    print('Score: ', sim[0][i])\n"
   ]
  },
  {
   "cell_type": "code",
   "execution_count": 26,
   "metadata": {},
   "outputs": [
    {
     "name": "stdout",
     "output_type": "stream",
     "text": [
      "10\n",
      "Document id  1541595\n",
      "The process of project management is an integrative oneâan action (or failure to take action) in one area will usually affect other areas. For example, a scope change will almost always affect cost and schedule estimates, but it may also have an impact on other factors as diverse as team morale and product quality.\n",
      "Score:  0.8880611690199094\n",
      "Document id  1676113\n",
      "Before you can achieve success, you need to define what success means to you. Unless you have a clear vision of what success is to you, you cannot work towards it. Success means different things to different people. For some, monetary reward is a measure of success. Yet others have multiple definition of success. 1. The Different Areas. They measure it across a few areas. It can be career, health, spiritual, emotional, time or financial.\n",
      "Score:  0.8854146720214371\n",
      "Document id  601542\n",
      "Earned value management (EVM), or Earned value project/performance management (EVPM) is a project management technique for measuring project performance and progress in an objective manner.he actual critical path is ultimately the determining factor of every project's duration. Because earned value schedule metrics take no account of critical path data, big budget activities that are not on the critical path have the potential to dwarf the impact of performing small budget critical path activities.\n",
      "Score:  0.8821515497191745\n",
      "Document id  7408263\n",
      "This characteristic reflects the advanced stage at which project control becomes important. The time at which major cost savings can be achieved is during planning and design for the project. During the actual construction, changes are likely to delay the project and lead to inordinate cost increases.\n",
      "Score:  0.8817423828089589\n",
      "Document id  2680839\n",
      "Because of this, I motivate my discussion of the evidence by appealing to this life-course, or sequential, approach which splits the impact of education into a two-stage process: first, the impact of disadvantage on education over the life-course; second, the impact of education on adult economic and social outcomes.\n",
      "Score:  0.8803331491039065\n",
      "Document id  4314198\n",
      "The objectives of both project management. and the project are different and the control of time, cost. and progress, which are often the project management. objectives, should not be confused with measuring project. success.\n",
      "Score:  0.8784849873998319\n",
      "Document id  5200299\n",
      "There are three primary project management organizational structures that have become the foundation for how an organization is run: functional, matrix, and pure project. Each structure has advantages, and if used correctly and in the right environment, the structure can further the completion of projects (Tait, 2010).n organizations structure can help or hurt their ability to achieve success. Some organizational structures can definitely impair the organizationâs ability to deliver project success. So choosing the correct organization structure is imperative to the success of that particular organization.\n",
      "Score:  0.8759156407624791\n",
      "Document id  2482092\n",
      "They can start by considering the health impact of development and transportation projects, much the same way they consider the environmental impact of these projects. (67) Such changes will be essential to achieve the goal of making physical activity a regular and natural part of peopleâs daily lives.\n",
      "Score:  0.8752102888413092\n",
      "Document id  8630313\n",
      "There are a number of additional issues relating to the use of design-build contracts that can impact the relative risk to the public and private sector participants in the contract and the opportunity to apply more cost-effective approaches to accomplishing the objectives of the project. These are discussed below.\n",
      "Score:  0.8744806614103323\n",
      "Document id  2407990\n",
      "the verb impact has developed the transitive sense to have an impact or effect on the structured reading program has done more to impact the elementary schools than any other single factor and the intransitive sense to have an impact or effect the work done at the computer center will impact on the economy of illinois and the nation\n",
      "Score:  0.8741900008013404\n"
     ]
    }
   ],
   "source": [
    "# get the top 10 documents\n",
    "top_k_indexes = np.argsort(sim_idf[0])[::-1][:10]\n",
    "print(len(top_k_indexes))\n",
    "for i in top_k_indexes:\n",
    "    # get the index from corpus_df\n",
    "    print(f'Document id ', corpus_df.iloc[i].name)\n",
    "    # get the text from corpus_df\n",
    "    print(corpus_df.iloc[i].text)\n",
    "    # print score\n",
    "    print('Score: ', sim_idf[0][i])\n"
   ]
  },
  {
   "cell_type": "code",
   "execution_count": null,
   "metadata": {},
   "outputs": [],
   "source": []
  }
 ],
 "metadata": {
  "kernelspec": {
   "display_name": ".venv",
   "language": "python",
   "name": "python3"
  },
  "language_info": {
   "codemirror_mode": {
    "name": "ipython",
    "version": 3
   },
   "file_extension": ".py",
   "mimetype": "text/x-python",
   "name": "python",
   "nbconvert_exporter": "python",
   "pygments_lexer": "ipython3",
   "version": "3.11.5"
  },
  "orig_nbformat": 4
 },
 "nbformat": 4,
 "nbformat_minor": 2
}
