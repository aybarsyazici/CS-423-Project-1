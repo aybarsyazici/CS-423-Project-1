{
 "cells": [
  {
   "cell_type": "code",
   "execution_count": 89,
   "metadata": {},
   "outputs": [],
   "source": [
    "#%pip install tensorflow-datasets numpy pandas scikit-learn matplotlib seaborn jsonlines pydot tqdm jupyter ipywidgets widgetsnbextension pandas-profiling tensorflow"
   ]
  },
  {
   "cell_type": "code",
   "execution_count": 1,
   "metadata": {},
   "outputs": [],
   "source": [
    "import matplotlib.pyplot as plt\n",
    "import numpy as np\n",
    "import tensorflow as tf\n",
    "import pandas as pd\n",
    "import json\n",
    "import tensorflow_datasets as tfds"
   ]
  },
  {
   "cell_type": "code",
   "execution_count": 2,
   "metadata": {},
   "outputs": [],
   "source": [
    "import pandas as pd\n",
    "import json\n",
    "\n",
    "DATA_DIR = 'data'\n",
    "\n",
    "# Load the data from files\n",
    "with open(f'{DATA_DIR}/corpus.jsonl', 'r') as f:\n",
    "    corpus_data = {int(item['_id']): item['text'] for item in (json.loads(line) for line in f)}\n",
    "\n",
    "with open(f'{DATA_DIR}/queries.jsonl', 'r') as f:\n",
    "    queries_data = {int(item['_id']): item['text'] for item in (json.loads(line) for line in f)}\n",
    "\n",
    "train_data = pd.read_csv(f'{DATA_DIR}/task1_train.tsv', delimiter='\\t')\n",
    "test_data = pd.read_csv(f'{DATA_DIR}/task1_test.tsv', delimiter='\\t')\n",
    "\n",
    "# Rename corpus-id to document_id and query-id to query_id in both train and test data\n",
    "train_data = train_data.rename(columns={'corpus-id': 'document_id', 'query-id': 'query_id'})\n",
    "test_data = test_data.rename(columns={'corpus-id': 'document_id', 'query-id': 'query_id'})\n",
    "# Make sure that the document_id and query_id are int64\n",
    "train_data['document_id'] = train_data['document_id'].astype('int64')\n",
    "train_data['query_id'] = train_data['query_id'].astype('int64')"
   ]
  },
  {
   "cell_type": "code",
   "execution_count": 3,
   "metadata": {},
   "outputs": [],
   "source": [
    "# Create a df from the corpus data\n",
    "corpus_df = pd.DataFrame.from_dict(corpus_data, orient='index', columns=['text'])\n",
    "# Create a df from the queries data\n",
    "queries_df = pd.DataFrame.from_dict(queries_data, orient='index', columns=['text'])"
   ]
  },
  {
   "cell_type": "code",
   "execution_count": 4,
   "metadata": {},
   "outputs": [],
   "source": [
    "# Apply vectorizer to the corpus and queries\n",
    "from sklearn.feature_extraction.text import TfidfVectorizer\n",
    "vectorizer = TfidfVectorizer()\n",
    "corpus_vectors = vectorizer.fit_transform(corpus_df['text'])\n",
    "queries_vectors = vectorizer.transform(queries_df['text'])"
   ]
  },
  {
   "cell_type": "code",
   "execution_count": 5,
   "metadata": {},
   "outputs": [],
   "source": [
    "corpus_vectors_df = pd.DataFrame.sparse.from_spmatrix(corpus_vectors, index=corpus_df.index, columns=vectorizer.get_feature_names_out())\n",
    "queries_vectors_df = pd.DataFrame.sparse.from_spmatrix(queries_vectors, index=queries_df.index, columns=vectorizer.get_feature_names_out())"
   ]
  },
  {
   "cell_type": "code",
   "execution_count": 6,
   "metadata": {},
   "outputs": [
    {
     "ename": "MergeError",
     "evalue": "Passing 'suffixes' which cause duplicate columns {'document_id_x'} is not allowed.",
     "output_type": "error",
     "traceback": [
      "\u001b[0;31m---------------------------------------------------------------------------\u001b[0m",
      "\u001b[0;31mMergeError\u001b[0m                                Traceback (most recent call last)",
      "Cell \u001b[0;32mIn[6], line 3\u001b[0m\n\u001b[1;32m      1\u001b[0m \u001b[39m# Merge the corpus_df and queries_df into the train_data\u001b[39;00m\n\u001b[1;32m      2\u001b[0m train_data \u001b[39m=\u001b[39m train_data\u001b[39m.\u001b[39mmerge(corpus_vectors_df, left_on\u001b[39m=\u001b[39m\u001b[39m'\u001b[39m\u001b[39mdocument_id\u001b[39m\u001b[39m'\u001b[39m, right_index\u001b[39m=\u001b[39m\u001b[39mTrue\u001b[39;00m)\n\u001b[0;32m----> 3\u001b[0m train_data \u001b[39m=\u001b[39m train_data\u001b[39m.\u001b[39;49mmerge(queries_vectors_df, left_on\u001b[39m=\u001b[39;49m\u001b[39m'\u001b[39;49m\u001b[39mquery_id\u001b[39;49m\u001b[39m'\u001b[39;49m, right_index\u001b[39m=\u001b[39;49m\u001b[39mTrue\u001b[39;49;00m)\n",
      "File \u001b[0;32m~/Documents/distributed info/Project 1/.venv/lib/python3.11/site-packages/pandas/core/frame.py:10490\u001b[0m, in \u001b[0;36mDataFrame.merge\u001b[0;34m(self, right, how, on, left_on, right_on, left_index, right_index, sort, suffixes, copy, indicator, validate)\u001b[0m\n\u001b[1;32m  10471\u001b[0m \u001b[39m@Substitution\u001b[39m(\u001b[39m\"\u001b[39m\u001b[39m\"\u001b[39m)\n\u001b[1;32m  10472\u001b[0m \u001b[39m@Appender\u001b[39m(_merge_doc, indents\u001b[39m=\u001b[39m\u001b[39m2\u001b[39m)\n\u001b[1;32m  10473\u001b[0m \u001b[39mdef\u001b[39;00m \u001b[39mmerge\u001b[39m(\n\u001b[0;32m   (...)\u001b[0m\n\u001b[1;32m  10486\u001b[0m     validate: MergeValidate \u001b[39m|\u001b[39m \u001b[39mNone\u001b[39;00m \u001b[39m=\u001b[39m \u001b[39mNone\u001b[39;00m,\n\u001b[1;32m  10487\u001b[0m ) \u001b[39m-\u001b[39m\u001b[39m>\u001b[39m DataFrame:\n\u001b[1;32m  10488\u001b[0m     \u001b[39mfrom\u001b[39;00m \u001b[39mpandas\u001b[39;00m\u001b[39m.\u001b[39;00m\u001b[39mcore\u001b[39;00m\u001b[39m.\u001b[39;00m\u001b[39mreshape\u001b[39;00m\u001b[39m.\u001b[39;00m\u001b[39mmerge\u001b[39;00m \u001b[39mimport\u001b[39;00m merge\n\u001b[0;32m> 10490\u001b[0m     \u001b[39mreturn\u001b[39;00m merge(\n\u001b[1;32m  10491\u001b[0m         \u001b[39mself\u001b[39;49m,\n\u001b[1;32m  10492\u001b[0m         right,\n\u001b[1;32m  10493\u001b[0m         how\u001b[39m=\u001b[39;49mhow,\n\u001b[1;32m  10494\u001b[0m         on\u001b[39m=\u001b[39;49mon,\n\u001b[1;32m  10495\u001b[0m         left_on\u001b[39m=\u001b[39;49mleft_on,\n\u001b[1;32m  10496\u001b[0m         right_on\u001b[39m=\u001b[39;49mright_on,\n\u001b[1;32m  10497\u001b[0m         left_index\u001b[39m=\u001b[39;49mleft_index,\n\u001b[1;32m  10498\u001b[0m         right_index\u001b[39m=\u001b[39;49mright_index,\n\u001b[1;32m  10499\u001b[0m         sort\u001b[39m=\u001b[39;49msort,\n\u001b[1;32m  10500\u001b[0m         suffixes\u001b[39m=\u001b[39;49msuffixes,\n\u001b[1;32m  10501\u001b[0m         copy\u001b[39m=\u001b[39;49mcopy,\n\u001b[1;32m  10502\u001b[0m         indicator\u001b[39m=\u001b[39;49mindicator,\n\u001b[1;32m  10503\u001b[0m         validate\u001b[39m=\u001b[39;49mvalidate,\n\u001b[1;32m  10504\u001b[0m     )\n",
      "File \u001b[0;32m~/Documents/distributed info/Project 1/.venv/lib/python3.11/site-packages/pandas/core/reshape/merge.py:183\u001b[0m, in \u001b[0;36mmerge\u001b[0;34m(left, right, how, on, left_on, right_on, left_index, right_index, sort, suffixes, copy, indicator, validate)\u001b[0m\n\u001b[1;32m    168\u001b[0m \u001b[39melse\u001b[39;00m:\n\u001b[1;32m    169\u001b[0m     op \u001b[39m=\u001b[39m _MergeOperation(\n\u001b[1;32m    170\u001b[0m         left_df,\n\u001b[1;32m    171\u001b[0m         right_df,\n\u001b[0;32m   (...)\u001b[0m\n\u001b[1;32m    181\u001b[0m         validate\u001b[39m=\u001b[39mvalidate,\n\u001b[1;32m    182\u001b[0m     )\n\u001b[0;32m--> 183\u001b[0m     \u001b[39mreturn\u001b[39;00m op\u001b[39m.\u001b[39;49mget_result(copy\u001b[39m=\u001b[39;49mcopy)\n",
      "File \u001b[0;32m~/Documents/distributed info/Project 1/.venv/lib/python3.11/site-packages/pandas/core/reshape/merge.py:885\u001b[0m, in \u001b[0;36m_MergeOperation.get_result\u001b[0;34m(self, copy)\u001b[0m\n\u001b[1;32m    881\u001b[0m     \u001b[39mself\u001b[39m\u001b[39m.\u001b[39mleft, \u001b[39mself\u001b[39m\u001b[39m.\u001b[39mright \u001b[39m=\u001b[39m \u001b[39mself\u001b[39m\u001b[39m.\u001b[39m_indicator_pre_merge(\u001b[39mself\u001b[39m\u001b[39m.\u001b[39mleft, \u001b[39mself\u001b[39m\u001b[39m.\u001b[39mright)\n\u001b[1;32m    883\u001b[0m join_index, left_indexer, right_indexer \u001b[39m=\u001b[39m \u001b[39mself\u001b[39m\u001b[39m.\u001b[39m_get_join_info()\n\u001b[0;32m--> 885\u001b[0m result \u001b[39m=\u001b[39m \u001b[39mself\u001b[39;49m\u001b[39m.\u001b[39;49m_reindex_and_concat(\n\u001b[1;32m    886\u001b[0m     join_index, left_indexer, right_indexer, copy\u001b[39m=\u001b[39;49mcopy\n\u001b[1;32m    887\u001b[0m )\n\u001b[1;32m    888\u001b[0m result \u001b[39m=\u001b[39m result\u001b[39m.\u001b[39m__finalize__(\u001b[39mself\u001b[39m, method\u001b[39m=\u001b[39m\u001b[39mself\u001b[39m\u001b[39m.\u001b[39m_merge_type)\n\u001b[1;32m    890\u001b[0m \u001b[39mif\u001b[39;00m \u001b[39mself\u001b[39m\u001b[39m.\u001b[39mindicator:\n",
      "File \u001b[0;32m~/Documents/distributed info/Project 1/.venv/lib/python3.11/site-packages/pandas/core/reshape/merge.py:837\u001b[0m, in \u001b[0;36m_MergeOperation._reindex_and_concat\u001b[0;34m(self, join_index, left_indexer, right_indexer, copy)\u001b[0m\n\u001b[1;32m    834\u001b[0m left \u001b[39m=\u001b[39m \u001b[39mself\u001b[39m\u001b[39m.\u001b[39mleft[:]\n\u001b[1;32m    835\u001b[0m right \u001b[39m=\u001b[39m \u001b[39mself\u001b[39m\u001b[39m.\u001b[39mright[:]\n\u001b[0;32m--> 837\u001b[0m llabels, rlabels \u001b[39m=\u001b[39m _items_overlap_with_suffix(\n\u001b[1;32m    838\u001b[0m     \u001b[39mself\u001b[39;49m\u001b[39m.\u001b[39;49mleft\u001b[39m.\u001b[39;49m_info_axis, \u001b[39mself\u001b[39;49m\u001b[39m.\u001b[39;49mright\u001b[39m.\u001b[39;49m_info_axis, \u001b[39mself\u001b[39;49m\u001b[39m.\u001b[39;49msuffixes\n\u001b[1;32m    839\u001b[0m )\n\u001b[1;32m    841\u001b[0m \u001b[39mif\u001b[39;00m left_indexer \u001b[39mis\u001b[39;00m \u001b[39mnot\u001b[39;00m \u001b[39mNone\u001b[39;00m \u001b[39mand\u001b[39;00m \u001b[39mnot\u001b[39;00m is_range_indexer(left_indexer, \u001b[39mlen\u001b[39m(left)):\n\u001b[1;32m    842\u001b[0m     \u001b[39m# Pinning the index here (and in the right code just below) is not\u001b[39;00m\n\u001b[1;32m    843\u001b[0m     \u001b[39m#  necessary, but makes the `.take` more performant if we have e.g.\u001b[39;00m\n\u001b[1;32m    844\u001b[0m     \u001b[39m#  a MultiIndex for left.index.\u001b[39;00m\n\u001b[1;32m    845\u001b[0m     lmgr \u001b[39m=\u001b[39m left\u001b[39m.\u001b[39m_mgr\u001b[39m.\u001b[39mreindex_indexer(\n\u001b[1;32m    846\u001b[0m         join_index,\n\u001b[1;32m    847\u001b[0m         left_indexer,\n\u001b[0;32m   (...)\u001b[0m\n\u001b[1;32m    852\u001b[0m         use_na_proxy\u001b[39m=\u001b[39m\u001b[39mTrue\u001b[39;00m,\n\u001b[1;32m    853\u001b[0m     )\n",
      "File \u001b[0;32m~/Documents/distributed info/Project 1/.venv/lib/python3.11/site-packages/pandas/core/reshape/merge.py:2691\u001b[0m, in \u001b[0;36m_items_overlap_with_suffix\u001b[0;34m(left, right, suffixes)\u001b[0m\n\u001b[1;32m   2689\u001b[0m     dups\u001b[39m.\u001b[39mextend(rlabels[(rlabels\u001b[39m.\u001b[39mduplicated()) \u001b[39m&\u001b[39m (\u001b[39m~\u001b[39mright\u001b[39m.\u001b[39mduplicated())]\u001b[39m.\u001b[39mtolist())\n\u001b[1;32m   2690\u001b[0m \u001b[39mif\u001b[39;00m dups:\n\u001b[0;32m-> 2691\u001b[0m     \u001b[39mraise\u001b[39;00m MergeError(\n\u001b[1;32m   2692\u001b[0m         \u001b[39mf\u001b[39m\u001b[39m\"\u001b[39m\u001b[39mPassing \u001b[39m\u001b[39m'\u001b[39m\u001b[39msuffixes\u001b[39m\u001b[39m'\u001b[39m\u001b[39m which cause duplicate columns \u001b[39m\u001b[39m{\u001b[39;00m\u001b[39mset\u001b[39m(dups)\u001b[39m}\u001b[39;00m\u001b[39m is \u001b[39m\u001b[39m\"\u001b[39m\n\u001b[1;32m   2693\u001b[0m         \u001b[39mf\u001b[39m\u001b[39m\"\u001b[39m\u001b[39mnot allowed.\u001b[39m\u001b[39m\"\u001b[39m,\n\u001b[1;32m   2694\u001b[0m     )\n\u001b[1;32m   2696\u001b[0m \u001b[39mreturn\u001b[39;00m llabels, rlabels\n",
      "\u001b[0;31mMergeError\u001b[0m: Passing 'suffixes' which cause duplicate columns {'document_id_x'} is not allowed."
     ]
    }
   ],
   "source": [
    "# Merge the corpus_df and queries_df into the train_data\n",
    "train_data = train_data.merge(corpus_vectors_df, left_on='document_id', right_index=True)\n",
    "train_data = train_data.merge(queries_vectors_df, left_on='query_id', right_index=True)"
   ]
  },
  {
   "cell_type": "code",
   "execution_count": 121,
   "metadata": {},
   "outputs": [],
   "source": [
    "# train-test split on train_data\n",
    "from sklearn.model_selection import train_test_split\n",
    "# scikit-learn vectorizer\n",
    "from sklearn.feature_extraction.text import TfidfVectorizer\n",
    "\n",
    "\n",
    "X_train, X_test, y_train, y_test = train_test_split(train_data[['query-id', 'corpus-id', 'query', 'document']], train_data['score'], test_size=0.2, random_state=42)\n",
    "# Get vocabulary from the train set\n",
    "vectorizer = TfidfVectorizer()\n",
    "vectorizer.fit(X_train['query'])\n",
    "vectorizer.fit(X_train['document'])\n",
    "vocab = vectorizer.vocabulary_"
   ]
  },
  {
   "cell_type": "code",
   "execution_count": 123,
   "metadata": {},
   "outputs": [],
   "source": [
    "# create list from vocab keys\n",
    "vocab_list = list(vocab.keys())"
   ]
  },
  {
   "cell_type": "code",
   "execution_count": 107,
   "metadata": {},
   "outputs": [
    {
     "name": "stdout",
     "output_type": "stream",
     "text": [
      "(426200, 4) (106551, 4) (426200,) (106551,)\n"
     ]
    }
   ],
   "source": [
    "print(X_train.shape, X_test.shape, y_train.shape, y_test.shape)"
   ]
  },
  {
   "cell_type": "code",
   "execution_count": 130,
   "metadata": {},
   "outputs": [],
   "source": [
    "class RankingModel(tf.keras.Model):\n",
    "    def __init__(self, vectorizer):\n",
    "        super().__init__()\n",
    "        self.vectorizer = vectorizer\n",
    "\n",
    "        self.document_embeddings = tf.keras.Sequential([\n",
    "            tf.keras.layers.experimental.preprocessing.StringLookup(\n",
    "                vocabulary=vocab_list\n",
    "            ),\n",
    "            tf.keras.layers.Embedding(len(vectorizer.get_feature_names_out()), 128)\n",
    "        ])\n",
    "\n",
    "        self.query_embeddings = tf.keras.Sequential([\n",
    "            tf.keras.layers.experimental.preprocessing.TextVectorization(\n",
    "                vocabulary=vocab_list\n",
    "            ),\n",
    "            tf.keras.layers.Embedding(len(vectorizer.get_feature_names_out()), 128)\n",
    "        ])\n",
    "\n",
    "        self.ratings = tf.keras.Sequential([\n",
    "            tf.keras.layers.Dense(256, activation='relu'),\n",
    "            tf.keras.layers.Dense(64, activation='relu'),\n",
    "            tf.keras.layers.Dense(1, activation='sigmoid')\n",
    "        ])\n",
    "    \n",
    "    def call(self, inputs):\n",
    "        print('Got input', inputs)\n",
    "        query_id = inputs[0]\n",
    "        doc_id = inputs[1]\n",
    "        query = inputs[2]\n",
    "        doc = inputs[3]\n",
    "        query = self.query_embeddings(query)\n",
    "        doc = self.document_embeddings(doc)\n",
    "        print('After embedding', query.shape, doc.shape)\n",
    "        # Concatenate the query and document\n",
    "        query_doc = tf.concat([query, doc], axis=1)\n",
    "        print('After concat', query_doc.shape)\n",
    "        # Get the ratings\n",
    "        ratings = self.ratings(query_doc)\n",
    "        print('After ratings', ratings.shape)\n",
    "        return ratings\n"
   ]
  },
  {
   "cell_type": "code",
   "execution_count": 131,
   "metadata": {},
   "outputs": [
    {
     "name": "stderr",
     "output_type": "stream",
     "text": [
      "/Users/aybarsyazici/Documents/distributed info/Project 1/.venv/lib/python3.11/site-packages/tensorflow/python/data/ops/structured_function.py:258: UserWarning: Even though the `tf.config.experimental_run_functions_eagerly` option is set, this option does not apply to tf.data functions. To force eager execution of tf.data functions, please use `tf.data.experimental.enable_debug_mode()`.\n",
      "  warnings.warn(\n"
     ]
    },
    {
     "name": "stdout",
     "output_type": "stream",
     "text": [
      "Epoch 1/10\n",
      "Got input (<tf.Tensor: shape=(32, 1), dtype=int64, numpy=\n",
      "array([[ 920745],\n",
      "       [ 205412],\n",
      "       [ 610026],\n",
      "       [ 642671],\n",
      "       [ 562283],\n",
      "       [ 429114],\n",
      "       [ 193753],\n",
      "       [1153755],\n",
      "       [1168336],\n",
      "       [ 488003],\n",
      "       [ 511189],\n",
      "       [1034887],\n",
      "       [ 544980],\n",
      "       [ 118279],\n",
      "       [  28205],\n",
      "       [ 491605],\n",
      "       [ 738429],\n",
      "       [ 694836],\n",
      "       [ 793372],\n",
      "       [ 219834],\n",
      "       [ 237897],\n",
      "       [ 283116],\n",
      "       [1017041],\n",
      "       [ 295744],\n",
      "       [  35627],\n",
      "       [ 285267],\n",
      "       [ 676520],\n",
      "       [ 953025],\n",
      "       [ 779996],\n",
      "       [ 261230],\n",
      "       [ 676352],\n",
      "       [ 619674]])>, <tf.Tensor: shape=(32, 1), dtype=int64, numpy=\n",
      "array([[3485949],\n",
      "       [2069779],\n",
      "       [1602971],\n",
      "       [1365480],\n",
      "       [2234478],\n",
      "       [6196770],\n",
      "       [1513697],\n",
      "       [1230190],\n",
      "       [5605405],\n",
      "       [ 807342],\n",
      "       [8205585],\n",
      "       [3591252],\n",
      "       [1513887],\n",
      "       [4931545],\n",
      "       [4793318],\n",
      "       [1336589],\n",
      "       [3367898],\n",
      "       [6072653],\n",
      "       [4219200],\n",
      "       [5144862],\n",
      "       [2369209],\n",
      "       [5718080],\n",
      "       [2612467],\n",
      "       [4320580],\n",
      "       [ 147795],\n",
      "       [2045889],\n",
      "       [4862898],\n",
      "       [5176454],\n",
      "       [5043513],\n",
      "       [6524654],\n",
      "       [2271297],\n",
      "       [ 757944]])>, <tf.Tensor: shape=(32, 1), dtype=string, numpy=\n",
      "array([[b'what was the giants pandas habitat'],\n",
      "       [b'hormones that increase spider veins'],\n",
      "       [b'what county is nacogdoches tx in'],\n",
      "       [b'what does ltz mean'],\n",
      "       [b'what are neurons'],\n",
      "       [b'is there downtime after ultherapy'],\n",
      "       [b'gene drift definition biology'],\n",
      "       [b'what is narrative medicine'],\n",
      "       [b'war at sea game'],\n",
      "       [b'requirements to be able to use virtual machines'],\n",
      "       [b'tectonic process definition'],\n",
      "       [b'who is kennedy space center named after'],\n",
      "       [b'weather in mallorca'],\n",
      "       [b'define beauty.'],\n",
      "       [b'at what age do kids get the meningococcal vaccine'],\n",
      "       [b'salary for moving freight forwarder'],\n",
      "       [b\"what is demeter's symbols\"],\n",
      "       [b'what is a piece montee'],\n",
      "       [b'what is salt made of?'],\n",
      "       [b'how do ncaa baseball regionals work'],\n",
      "       [b'how is urine produced in the body'],\n",
      "       [b'how many episode of game of thrones'],\n",
      "       [b'which part of the earth is made of solid iron and nickel?'],\n",
      "       [b'how many shots in a handle of smirnoff'],\n",
      "       [b'average costs of arbitration'],\n",
      "       [b'how many grams of vitamin c in a clementine'],\n",
      "       [b'what is a case study survey'],\n",
      "       [b'when is the lego batman movie come out'],\n",
      "       [b'what is oracal 951 used for'],\n",
      "       [b'how long for onion sets to germinate'],\n",
      "       [b'what is a carbohydrate ratio'],\n",
      "       [b'what did rosalind franklin contribute to the effort to identify the structure of dna']],\n",
      "      dtype=object)>, <tf.Tensor: shape=(32, 1), dtype=string, numpy=\n",
      "array([[b'Minshan Mountains. Although the giant panda habitats in the Minshan Mountains area (Sichuan and Gansu Provinces) are larger, viewed collectively, fewer giant pandas live in these habitats \\xc3\\xa2\\xc2\\x80\\xc2\\x93 only about 45% of the total population of giant pandas living in the wild, in fact, live in the Minshan Mountains area.'],\n",
      "       [b'Estrogen dominance: the hormonal imbalance that causes edema, weight gain, infertility, low thyroid, varicose veins and more! By Catherine 45 Comments | Medical Disclaimer | This Post Contains Affiliate Links.'],\n",
      "       [b'Not to be confused with Natchitoches, Louisiana. Nacogdoches (/\\xc3\\x8b\\xc2\\x8cn\\xc3\\x83\\xc2\\xa6k\\xc3\\x89\\xc2\\x99\\xc3\\x8b\\xc2\\x88do\\xc3\\x8a\\xc2\\x8at\\xc3\\x8a\\xc2\\x83\\xc3\\xa1\\xc2\\xb5\\xc2\\xbbs/ NAK-\\xc3\\x89\\xc2\\x99-DOH-chiss) is a small city situated in East Texas and the county seat of Nacogdoches County, Texas, United States. The 2010 U.S. Census recorded the city\\xc3\\xa2\\xc2\\x80\\xc2\\x99s population to be 32,996.'],\n",
      "       [b'LS, LT, and LTZ are letters which designate the trim line of a Chevrolet. The letters by themselves mean nothing. Each designation comes from the factory with a different package of standard equipment and certain options are not available on certain trim lines.'],\n",
      "       [b'Neurons (also known as neurones, nerve cells and nerve fibers) are electrically excitable cells in the nervous system that function to process and transmit information. In vertebrate animals, neurons are the core structural components of the brain, spinal cord and peripheral nerves.eurons (also known as neurones, nerve cells and nerve fibers) are electrically excitable cells in the nervous system that function to process and transmit information. In vertebrate animals, neurons are the core structural components of the brain, spinal cord and peripheral nerves.'],\n",
      "       [b'The selective heating effect of the ultrasound stimulates your body\\xc3\\xa2\\xc2\\x80\\xc2\\x99s own collagen production and over several months, results in a face, brow, jawline, and neck that is visibly lifted. The treatment takes only 30 to 60 minutes and there is no downtime after treatment.Ultherapy is an ultrasound treatment, approved by the FDA, for counteracting the effects of time and gravity on your face.It is a 30-60 minute treatment that uses your body\\xc3\\xa2\\xc2\\x80\\xc2\\x99s own regenerative response to gently and gradually restore memory to the skin and underlying tissue.he selective heating effect of the ultrasound stimulates your body\\xc3\\xa2\\xc2\\x80\\xc2\\x99s own collagen production and over several months, results in a face, brow, jawline, and neck that is visibly lifted. The treatment takes only 30 to 60 minutes and there is no downtime after treatment.'],\n",
      "       [b\"Genetic drift (or allelic drift) is the change in the frequency of a gene variant (allele) in a population due to random sampling of organisms.The alleles in the offspring are a sample of those in the parents, and chance has a role in determining whether a given individual survives and reproduces.A population's allele frequency is the fraction of the copies of one gene that share a particular form.he alleles in the offspring are a sample of those in the parents, and chance has a role in determining whether a given individual survives and reproduces. A population's allele frequency is the fraction of the copies of one gene that share a particular form.\"],\n",
      "       [b'\\xc3\\xa2\\xc2\\x80\\xc2\\x9cNarrative is the ultimate device of casuistry in medicine (as in theology and law), which enables practitioners who share its diagnostic and therapeutic worldview to fit general principles to the single case and to achieve a degree of generalization that is both practicable and open to change.\\xc3\\xa2\\xc2\\x80\\xc2\\x9d11p46\\xc3\\xa2\\xc2\\x80\\xc2\\x937.'],\n",
      "       [b'War at Sea Starter Set: Released on March 16, 2007; It includes 9 randomized units, 2 double-sided battle maps, 6 island cards, and 8 six-sided dice. War at Sea Starter (Revised): Released on March 16, 2010; It includes 8 miniatures, 2 double-sided battle maps, 4 six-sided dice and a new rule book.'],\n",
      "       [b'The virtual machine hardware must be. compatible with Workstation 8 and later virtual machines. n Support for USB 2.0 and 3.0 requires that you configure virtual machine settings to enable USB 2.0 and. 3.0 support and that you have compatible guest operating systems and virtual machine hardware.'],\n",
      "       [b\"Full Definition of PLATE TECTONICS. 1. : a theory in geology: the lithosphere of the earth is divided into a small number of plates which float on and travel independently over the mantle and much of the earth's seismic activity occurs at the boundaries of these plates.2.late tectonics. noun plural but singular in construction. Tweet. geology: a scientific theory that the Earth's surface is made of very large sections that move very slowly; also: the movements of the large sections that form the Earth's surface.\"],\n",
      "       [b\"Cecil replies: Sure, but let's get our facts straight: they didn't change the name of the space center, they changed the name of the cape \\xc3\\xa2\\xc2\\x80\\xc2\\x94 i.e., the land under the space center (or under part of it, anyway). The NASA launch facility continues to be known as the John F. Kennedy Space Center. The whole confusing business got started back on November 27, 1963, shortly after JFK's assassination, when Lyndon Johnson was casting about for a suitable memorial for the slain president.\"],\n",
      "       [b'Be prepared with the most accurate 10-day forecast for Palma de Mallorca, Spain with highs, lows, chance of precipitation from The Weather Channel and Weather.com Be prepared with the most accurate 10-day forecast for Palma de Mallorca, Spain with highs, lows, chance of precipitation from The Weather Channel and Weather.com Scan for updated forecast Connection restored!'],\n",
      "       [b'Definition of beauty. plural. beauties. 1 : the quality or aggregate of qualities in a person or thing that gives pleasure to the senses or pleasurably exalts the mind or spirit : loveliness a woman of great physical beauty exploring the natural beauty of the island A thing of beauty is a joy forever \\xc3\\xa2\\xc2\\x80\\xc2\\xa6 \\xc3\\xa2\\xc2\\x80\\xc2\\x94 John Keats.'],\n",
      "       [b'The CDC recommends a meningococcal vaccine for: 1  All children ages 11-18 or certain younger high-risk children. 2  Anyone who has been exposed to meningitis during an outbreak. 3  Anyone traveling to or living where meningitis is common, such as in sub-Saharan Africa.  Military recruits.'],\n",
      "       [b\"A Freight Forwarder earns an average salary of $38,870 per year. Most people move on to other jobs if they have more than 20 years' experience in this career.Experience has a moderate effect on pay for this job. $29,397 - $68,456. Freight Forwarder earns an average salary of $38,870 per year. Most people move on to other jobs if they have more than 20 years' experience in this career.\"],\n",
      "       [b'Demeter\\xc3\\xa2\\xc2\\x80\\xc2\\x99s symbols, or attributes, include an ear of wheat, a winged serpent, and cornucopia. Her emblem was Poppy. Wheat, Barley, Mint, and Poppy were sacred plants to Demeter. To Demeter, serpents, pigs, and geckos were considered sacred animals.'],\n",
      "       [b'The piece mont\\xc3\\x83\\xc2\\xa9e is the traditional wedding cake in France. They are often served at baptisms and communions as well. I had never hard of these before I started this but it reminds me of a cream puff and it is really delicious. It is not very hard to make just a little time consuming putting it all together.'],\n",
      "       [b'We\\xc3\\xa2\\xc2\\x80\\xc2\\x99ll adopt a schoolmasterly tone at this point. Salt (NaCl) is a natural mineral made up of white cube-shaped crystals composed of two elements, sodium and chlorine. It is translucent, colourless, odourless (officially, though we think you can smell the freshness of the sea in one of our boxes) and has a distinctive and characteristic taste.'],\n",
      "       [b'The Regionals are the opening round of the NCAA Tournament. There are 16 Regionals, 8 hosted by the National Seeds and 8 hosted by the next best teams in the field of 64. Each regional contains 4 teams, seeded 1-4.'],\n",
      "       [b'The kidneys filter the blood to remove wastes and produce urine. The ureters, urinary bladder, and urethra together form the urinary tract, which acts as a plumbing system to drain urine from the kidneys, store it, and then release it during urination.'],\n",
      "       [b\"AUSTIN \\xc3\\xa2\\xc2\\x80\\xc2\\x94 The final season of Game of Thrones will only be six episodes, the show's creators D.B. Weiss and David Benioff revealed onstage at SXSW. That said, there won't be a shortage of material for the eighth and final season of the hit show. The outline alone for the season is 140 pages, the directors said.\"],\n",
      "       [b'The Lower Mantle- part of the second layer of the earth which is mostly melted rock. The whole mantle going down is 1800 miles down. The Outer Core- is made up of liquid metals mostly iron nickel and minor sulfur. The outer core goes 1375 miles down. The Inner Core- the most inner layer of the earth which is solid and made of iron and nickel. The inner core is 1750 miles to the center. How the layers of the Earth were created.'],\n",
      "       [b'How many shots are there in a handle, 1.75 liters, of triple distilled smirnoff? kgb answers \\xc3\\x82\\xc2\\xbb Food & Drink \\xc3\\x82\\xc2\\xbb How many shots are there in a handle, 1.75 liters, of triple distilled smirnoff? There are approximately 39 1.5oz shots in one 1.75 liter handle.'],\n",
      "       [b'1 The total cost of arbitration was reported to range from $13,476.77 to $403, 033.90. 2  The said study also showed that nine cases resolved through arbitration incurred $710,323.50 for counsel fees with an average outside counsel bill of $78,924.84. On the other hand, according to http://www.insidecounsel.com, arbitration is more expensive than litigation. 2  This is based on the result of a study of employment-related disputes. 3  Attorney\\xc3\\xa2\\xc2\\x80\\xc2\\x99s fees range from $13,043.35 to $283,583.45. 4  The total cost of arbitration was reported to range from $13,476.77 to $403, 033.90.'],\n",
      "       [b'Vitamin C content of a fresh orange is 53 mg per 100 grams, or 70 mg for an average sized orange. The recommended everyday intake is 75 milligrams per day for adult women an\\xc3\\xa2\\xc2\\x80\\xc2\\xa6d 90 milligrams per day for adult men. Making the world better, one answer at a time.'],\n",
      "       [b'A Case Study involves an up-close, in-depth, and detailed examination of a subject (the case), as well as its related contextual conditions. Case studies appear with great frequency throughout popular works, with nearly anybody able to claim to have done one.'],\n",
      "       [b'A Lego Batman movie is coming in 2017. A plastic Dark Knight was arguably the best character in The Lego Movie and it would seem that fans everywhere agreed. According to the Hollywood Reporter, the first spinoff of the film will be a Lego Batman feature that could be in theaters in a little over two years. Advertisement.'],\n",
      "       [b\"ORACAL 951 Premium Cast Vinyl 24 x 10 Yard Roll. ORACAL's highest performing, premium cast vinyl film has been specially designed to produce permanent graphics for use in nearly any commercial or industrial situation, including highly conformable vehicle graphics.RACAL 951 offers easy cutting and weeding properties as well as minimal shrinkage for permanent, durable, dimensionally stable graphics that can withstand severe weather and handling conditions. Thermal print compatible.\"],\n",
      "       [b'Onions can be grown from seeds, sets (young, small dormant bulbs grown the previous year), or transplants. Growing onions from seed can take as much as five months. You will find seed for many varieties or cultivars of onions. Sets are easer to plant than seeds or transplants. Starting seeds. Sow onion seeds indoors 8 to 12 weeks before the last average frost date. Sow seeds in pots, flats, or trays. Thin seedlings to one inch apart when they are four inches tall.'],\n",
      "       [b'Whichever insulin is used, success comes from matching the dose to the amounts of carbohydrate eaten. This is where I:C ratios come in. The I:C ratio specifies how many grams of carbohydrate are \\xc3\\xa2\\xc2\\x80\\xc2\\x9ccovered\\xc3\\xa2\\xc2\\x80\\xc2\\x9d by each unit of insulin. For example, a 1-unit-per-10-grams-of-carb (1:10) ratio means that one unit of insulin covers 10 grams of carbohydrate. A 1:20 ratio means that each unit covers 20 grams. Calculating a meal or snack dose becomes simple when you know your I:C ratio: Simply divide your carbs by your ratio.'],\n",
      "       [b'Rosalind Franklin. A crucial contribution. Rosalind Franklin made a crucial contribution to the discovery of the double helix structure of DNA, but some would say she got a raw deal. Biographer Brenda Maddox called her the Dark Lady of DNA, based on a once disparaging reference to Franklin by one of her coworkers.ndeed, Franklin is in the shadows of science history, for while her work on DNA was crucial to the discovery of its structure, her contribution to that landmark discovery is little known. Her education.']],\n",
      "      dtype=object)>)\n",
      "After embedding (32, 14, 128) (32, 1, 128)\n",
      "After concat (32, 15, 128)\n",
      "After ratings (32, 15, 1)\n"
     ]
    },
    {
     "ename": "TypeError",
     "evalue": "'str' object is not callable",
     "output_type": "error",
     "traceback": [
      "\u001b[0;31m---------------------------------------------------------------------------\u001b[0m",
      "\u001b[0;31mTypeError\u001b[0m                                 Traceback (most recent call last)",
      "Cell \u001b[0;32mIn[131], line 5\u001b[0m\n\u001b[1;32m      2\u001b[0m model \u001b[39m=\u001b[39m RankingModel(vectorizer\u001b[39m=\u001b[39mvectorizer)\n\u001b[1;32m      3\u001b[0m model\u001b[39m.\u001b[39mcompile(optimizer\u001b[39m=\u001b[39m\u001b[39m'\u001b[39m\u001b[39madam\u001b[39m\u001b[39m'\u001b[39m, loss\u001b[39m=\u001b[39m\u001b[39m'\u001b[39m\u001b[39mmse\u001b[39m\u001b[39m'\u001b[39m, metrics\u001b[39m=\u001b[39m[\u001b[39m'\u001b[39m\u001b[39mrmse\u001b[39m\u001b[39m'\u001b[39m])\n\u001b[0;32m----> 5\u001b[0m model\u001b[39m.\u001b[39;49mfit([X_train[\u001b[39m'\u001b[39;49m\u001b[39mquery-id\u001b[39;49m\u001b[39m'\u001b[39;49m], X_train[\u001b[39m'\u001b[39;49m\u001b[39mcorpus-id\u001b[39;49m\u001b[39m'\u001b[39;49m], X_train[\u001b[39m'\u001b[39;49m\u001b[39mquery\u001b[39;49m\u001b[39m'\u001b[39;49m], X_train[\u001b[39m'\u001b[39;49m\u001b[39mdocument\u001b[39;49m\u001b[39m'\u001b[39;49m]], y_train, epochs\u001b[39m=\u001b[39;49m\u001b[39m10\u001b[39;49m, batch_size\u001b[39m=\u001b[39;49m\u001b[39m32\u001b[39;49m, validation_split\u001b[39m=\u001b[39;49m\u001b[39m0.2\u001b[39;49m)\n",
      "File \u001b[0;32m~/Documents/distributed info/Project 1/.venv/lib/python3.11/site-packages/keras/src/utils/traceback_utils.py:70\u001b[0m, in \u001b[0;36mfilter_traceback.<locals>.error_handler\u001b[0;34m(*args, **kwargs)\u001b[0m\n\u001b[1;32m     67\u001b[0m     filtered_tb \u001b[39m=\u001b[39m _process_traceback_frames(e\u001b[39m.\u001b[39m__traceback__)\n\u001b[1;32m     68\u001b[0m     \u001b[39m# To get the full stack trace, call:\u001b[39;00m\n\u001b[1;32m     69\u001b[0m     \u001b[39m# `tf.debugging.disable_traceback_filtering()`\u001b[39;00m\n\u001b[0;32m---> 70\u001b[0m     \u001b[39mraise\u001b[39;00m e\u001b[39m.\u001b[39mwith_traceback(filtered_tb) \u001b[39mfrom\u001b[39;00m \u001b[39mNone\u001b[39;00m\n\u001b[1;32m     71\u001b[0m \u001b[39mfinally\u001b[39;00m:\n\u001b[1;32m     72\u001b[0m     \u001b[39mdel\u001b[39;00m filtered_tb\n",
      "File \u001b[0;32m~/Documents/distributed info/Project 1/.venv/lib/python3.11/site-packages/tensorflow/python/autograph/impl/api.py:459\u001b[0m, in \u001b[0;36m_call_unconverted\u001b[0;34m(f, args, kwargs, options, update_cache)\u001b[0m\n\u001b[1;32m    456\u001b[0m   \u001b[39mreturn\u001b[39;00m f\u001b[39m.\u001b[39m\u001b[39m__self__\u001b[39m\u001b[39m.\u001b[39mcall(args, kwargs)\n\u001b[1;32m    458\u001b[0m \u001b[39mif\u001b[39;00m kwargs \u001b[39mis\u001b[39;00m \u001b[39mnot\u001b[39;00m \u001b[39mNone\u001b[39;00m:\n\u001b[0;32m--> 459\u001b[0m   \u001b[39mreturn\u001b[39;00m f(\u001b[39m*\u001b[39;49margs, \u001b[39m*\u001b[39;49m\u001b[39m*\u001b[39;49mkwargs)\n\u001b[1;32m    460\u001b[0m \u001b[39mreturn\u001b[39;00m f(\u001b[39m*\u001b[39margs)\n",
      "\u001b[0;31mTypeError\u001b[0m: 'str' object is not callable"
     ]
    }
   ],
   "source": [
    "# Train the model\n",
    "model = RankingModel(vectorizer=vectorizer)\n",
    "model.compile(optimizer='adam', loss='mse', metrics=['rmse'])\n",
    "\n",
    "model.fit([X_train['query-id'], X_train['corpus-id'], X_train['query'], X_train['document']], y_train, epochs=10, batch_size=32, validation_split=0.2)"
   ]
  },
  {
   "cell_type": "code",
   "execution_count": null,
   "metadata": {},
   "outputs": [],
   "source": []
  }
 ],
 "metadata": {
  "kernelspec": {
   "display_name": ".venv",
   "language": "python",
   "name": "python3"
  },
  "language_info": {
   "codemirror_mode": {
    "name": "ipython",
    "version": 3
   },
   "file_extension": ".py",
   "mimetype": "text/x-python",
   "name": "python",
   "nbconvert_exporter": "python",
   "pygments_lexer": "ipython3",
   "version": "3.11.5"
  },
  "orig_nbformat": 4
 },
 "nbformat": 4,
 "nbformat_minor": 2
}
