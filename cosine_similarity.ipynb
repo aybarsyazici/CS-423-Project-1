{
 "cells": [
  {
   "cell_type": "code",
   "execution_count": null,
   "metadata": {},
   "outputs": [],
   "source": [
    "# %pip install pandas scikit-learn matplotlib seaborn jsonlines tqdm"
   ]
  },
  {
   "cell_type": "code",
   "execution_count": 1,
   "metadata": {},
   "outputs": [],
   "source": [
    "import pandas as pd\n",
    "import json\n",
    "\n",
    "DATA_DIR = 'data'\n",
    "\n",
    "# Load the data from files\n",
    "with open(f'{DATA_DIR}/corpus.jsonl', 'r') as f:\n",
    "    corpus_data = {int(item['_id']): item['text'] for item in (json.loads(line) for line in f)}\n",
    "\n",
    "with open(f'{DATA_DIR}/queries.jsonl', 'r') as f:\n",
    "    queries_data = {int(item['_id']): item['text'] for item in (json.loads(line) for line in f)}\n",
    "\n",
    "train_data = pd.read_csv(f'{DATA_DIR}/task1_train.tsv', delimiter='\\t')\n",
    "test_data = pd.read_csv(f'{DATA_DIR}/task1_test.tsv', delimiter='\\t')\n",
    "\n",
    "# Rename corpus-id to document_id and query-id to query_id in both train and test data\n",
    "train_data = train_data.rename(columns={'corpus-id': 'document_id', 'query-id': 'query_id'})\n",
    "test_data = test_data.rename(columns={'corpus-id': 'document_id', 'query-id': 'query_id'})\n",
    "# Make sure that the document_id and query_id are int64\n",
    "train_data['document_id'] = train_data['document_id'].astype('int64')\n",
    "train_data['query_id'] = train_data['query_id'].astype('int64')"
   ]
  },
  {
   "cell_type": "code",
   "execution_count": 2,
   "metadata": {},
   "outputs": [],
   "source": [
    "# Create a df from the corpus data\n",
    "corpus_df = pd.DataFrame.from_dict(corpus_data, orient='index', columns=['text'])\n",
    "# Create a df from the queries data\n",
    "queries_df = pd.DataFrame.from_dict(queries_data, orient='index', columns=['text'])"
   ]
  },
  {
   "cell_type": "code",
   "execution_count": 3,
   "metadata": {},
   "outputs": [],
   "source": [
    "# Apply vectorizer to the corpus\n",
    "from sklearn.feature_extraction.text import TfidfVectorizer\n",
    "vectorizer = TfidfVectorizer(stop_words='english')\n",
    "corpus_vectors = vectorizer.fit_transform(corpus_df['text'])"
   ]
  },
  {
   "cell_type": "code",
   "execution_count": 4,
   "metadata": {},
   "outputs": [],
   "source": [
    "# Below 2 cells are just for visualization and double-checking purposes\n",
    "corpus_vectors_df = pd.DataFrame.sparse.from_spmatrix(corpus_vectors, index=corpus_df.index, columns=vectorizer.get_feature_names_out())"
   ]
  },
  {
   "cell_type": "code",
   "execution_count": 5,
   "metadata": {},
   "outputs": [
    {
     "data": {
      "text/plain": [
       "achievement      0.196173\n",
       "amid             0.219827\n",
       "atomic           0.176855\n",
       "cloud            0.171244\n",
       "communication    0.161206\n",
       "engineers        0.183345\n",
       "equally          0.185823\n",
       "hanging          0.192908\n",
       "hundreds         0.169618\n",
       "important        0.113235\n",
       "impressive       0.192228\n",
       "innocent         0.215891\n",
       "intellect        0.238027\n",
       "lives            0.150731\n",
       "manhattan        0.189711\n",
       "meant            0.170209\n",
       "minds            0.204465\n",
       "obliterated      0.279503\n",
       "presence         0.155866\n",
       "project          0.141383\n",
       "researchers      0.169291\n",
       "scientific       0.319888\n",
       "success          0.317699\n",
       "thousands        0.156374\n",
       "truly            0.176543\n",
       "Name: 0, dtype: Sparse[float64, 0]"
      ]
     },
     "metadata": {},
     "output_type": "display_data"
    },
    {
     "data": {
      "text/plain": [
       "'The presence of communication amid scientific minds was equally important to the success of the Manhattan Project as scientific intellect was. The only cloud hanging over the impressive achievement of the atomic researchers and engineers is what their success truly meant; hundreds of thousands of innocent lives obliterated.'"
      ]
     },
     "metadata": {},
     "output_type": "display_data"
    },
    {
     "name": "stdout",
     "output_type": "stream",
     "text": [
      "True\n"
     ]
    }
   ],
   "source": [
    "# print the columns that are larger than 0 for the first row\n",
    "display(corpus_vectors_df.loc[0, corpus_vectors_df.loc[0] > 0])\n",
    "# Also print the text for the first row\n",
    "display(corpus_df.loc[0].text)\n",
    "\n",
    "# Do all the non-zero values of the first row exist in the text?\n",
    "print(all([word in corpus_df.loc[0].text.lower() for word in corpus_vectors_df.loc[0, corpus_vectors_df.loc[0] > 0].index]))"
   ]
  },
  {
   "cell_type": "code",
   "execution_count": 28,
   "metadata": {},
   "outputs": [
    {
     "data": {
      "text/plain": [
       "additional      0.137694\n",
       "berkeley        0.220726\n",
       "chicago         0.163381\n",
       "conducted       0.179115\n",
       "district        0.152207\n",
       "engineer        0.181889\n",
       "laboratories    0.207140\n",
       "locations       0.155175\n",
       "major           0.124650\n",
       "manhattan       0.579110\n",
       "mexico          0.154124\n",
       "new             0.091710\n",
       "operations      0.323544\n",
       "place           0.112342\n",
       "project         0.287723\n",
       "remote          0.177976\n",
       "research        0.133311\n",
       "site            0.133766\n",
       "states          0.099844\n",
       "tennessee       0.171234\n",
       "took            0.147568\n",
       "university      0.133413\n",
       "washington      0.144723\n",
       "Name: 5117689, dtype: Sparse[float64, 0]"
      ]
     },
     "metadata": {},
     "output_type": "display_data"
    }
   ],
   "source": [
    "display(corpus_vectors_df.loc[5117689, corpus_vectors_df.loc[5117689] > 0])"
   ]
  },
  {
   "cell_type": "code",
   "execution_count": 10,
   "metadata": {},
   "outputs": [
    {
     "name": "stdout",
     "output_type": "stream",
     "text": [
      "Predicting for query: \")what was the immediate impact of the success of the manhattan project?\" )what was the immediate impact of the success of the manhattan project? 1185869\n",
      "[1214391  590437 1116515 1231205  428535  146155 1021116 1248393  513144]\n",
      "Document ID: 3607205\n",
      "Text: \"Manhattan Project. 1  The Manhattan Project was a secret military project created in 1942 to produce the first US nuclear weapon. Fears that Nazi Germany would build and use a nuclear weapon during World War II triggered the start of the Manhattan Project, which was originally based in Manhattan, New York.\"\n",
      "Similarity: 0.4853277771970198\n",
      "\n",
      "Document ID: 7243450\n",
      "Text: \"The project was given its name due to the fact that at least 10 of the sites used for the research were located in Manhattan. Following is a timeline of the key events related to the development of the atomic bomb and the Manhattan Project. Manhattan Project Timeline\"\n",
      "Similarity: 0.4780633057447168\n",
      "\n",
      "Document ID: 2036644\n",
      "Text: \"Manhattan Project. The Manhattan Project was a secret military project created in 1942 to produce the first US nuclear weapon. Fears that Nazi Germany would build and use a nuclear weapon during World War II triggered the start of the Manhattan Project, which was originally based in Manhattan, New York.anhattan Project. The Manhattan Project was a secret military project created in 1942 to produce the first US nuclear weapon. Fears that Nazi Germany would build and use a nuclear weapon during World War II triggered the start of the Manhattan Project, which was originally based in Manhattan, New York.\"\n",
      "Similarity: 0.46285238491157\n",
      "\n",
      "Document ID: 3870080\n",
      "Text: \"Manhattan Project. The Manhattan Project was a secret military project created in 1942 to produce the first US nuclear weapon. Fears that Nazi Germany would build and use a nuclear weapon during World War II triggered the start of the Manhattan Project, which was originally based in Manhattan, New York.he Manhattan Project was a secret military project created in 1942 to produce the first US nuclear weapon. Fears that Nazi Germany would build and use a nuclear weapon during World War II triggered the start of the Manhattan Project, which was originally based in Manhattan, New York.\"\n",
      "Similarity: 0.45572898765943193\n",
      "\n",
      "Document ID: 3870082\n",
      "Text: \"The Manhattan Project was a research and development project that produced the first nuclear weapons during World War II.he Army component of the project was designated the Manhattan District; Manhattan gradually superseded the official codename, Development of Substitute Materials, for the entire project. Along the way, the project absorbed its earlier British counterpart, Tube Alloys.\"\n",
      "Similarity: 0.44987800665810657\n",
      "\n",
      "Document ID: 2395246\n",
      "Text: \"The Manhattan Project was a research and development project that produced the first atomic bombs during World War II. Here's an answer: The Manhattan Project was a movie made about Peter Stuyvesant's quest to buy the island of Manhattan from Native Americans back in the 1600s. For a better answer, look below.\"\n",
      "Similarity: 0.44192241229351215\n",
      "\n",
      "Document ID: 462457\n",
      "Text: \"Learner's definition of IMMEDIATE. 1. a : happening or done without delay. This requires your immediate attention. The new restaurant was an immediate success. This crisis calls for immediate action. The response to the crisis was immediate.\"\n",
      "Similarity: 0.43343974353536374\n",
      "\n",
      "Document ID: 4138462\n",
      "Text: \"The Manhattan Project was a secret military project created in 1942 to produce the first US nuclear weapon. Fears that Nazi Germany would build and use a nuclear weapon during World War II triggered the start of the Manhattan Project, which was originally based in Manhattan, New York.\"\n",
      "Similarity: 0.41914194530647364\n",
      "\n",
      "Document ID: 5117689\n",
      "Text: \"The Manhattan Project -- Its Operations. Major operations for the Manhattan Engineer District (Manhattan Project) took place in remote site locations in the states of Tennessee, New Mexico, and Washington, with additional research being conducted in university laboratories at Chicago and Berkeley.\"\n",
      "Similarity: 0.4119592934607527\n",
      "\n"
     ]
    }
   ],
   "source": [
    "from sklearn.metrics.pairwise import linear_kernel\n",
    "\n",
    "# Now for a given query, we can compute the cosine similarity between the query and all the documents\n",
    "# Then return the top 10 documents that are most similar to the query\n",
    "\n",
    "# For example, let's say we want to find the most similar documents to the first query in train data\n",
    "query_id = train_data['query_id'][0]\n",
    "# Get the query text\n",
    "query = queries_df['text'][query_id]\n",
    "print(f'Predicting for query: \"{queries_data[query_id]}\"')\n",
    "\n",
    "# Vectorize the query\n",
    "query_vector = vectorizer.transform([query])\n",
    "\n",
    "# Compute the cosine similarity between the query and all the documents\n",
    "cosine_similarities = linear_kernel(query_vector, corpus_vectors).flatten()\n",
    "\n",
    "# Get the top 10 most similar documents\n",
    "related_docs_indices = cosine_similarities.argsort()[:-10:-1]\n",
    "print(related_docs_indices)\n",
    "for index in related_docs_indices:\n",
    "    print(f'Document ID: {corpus_df.index.values[index]}')\n",
    "    print(f'Text: \"{corpus_df.iloc[index].text}\"')\n",
    "    print(f'Similarity: {cosine_similarities[index]}')\n",
    "    print()"
   ]
  },
  {
   "cell_type": "code",
   "execution_count": 7,
   "metadata": {},
   "outputs": [],
   "source": [
    "grouped_df = train_data.groupby('query_id').agg({'document_id': list, 'score': list}).reset_index()"
   ]
  },
  {
   "cell_type": "code",
   "execution_count": 8,
   "metadata": {},
   "outputs": [
    {
     "data": {
      "text/html": [
       "<div>\n",
       "<style scoped>\n",
       "    .dataframe tbody tr th:only-of-type {\n",
       "        vertical-align: middle;\n",
       "    }\n",
       "\n",
       "    .dataframe tbody tr th {\n",
       "        vertical-align: top;\n",
       "    }\n",
       "\n",
       "    .dataframe thead th {\n",
       "        text-align: right;\n",
       "    }\n",
       "</style>\n",
       "<table border=\"1\" class=\"dataframe\">\n",
       "  <thead>\n",
       "    <tr style=\"text-align: right;\">\n",
       "      <th></th>\n",
       "      <th>query_id</th>\n",
       "      <th>document_id</th>\n",
       "      <th>score</th>\n",
       "    </tr>\n",
       "  </thead>\n",
       "  <tbody>\n",
       "    <tr>\n",
       "      <th>73</th>\n",
       "      <td>202</td>\n",
       "      <td>[889051, 153578]</td>\n",
       "      <td>[1, 1]</td>\n",
       "    </tr>\n",
       "    <tr>\n",
       "      <th>126</th>\n",
       "      <td>374</td>\n",
       "      <td>[4086051, 4086052, 4086057]</td>\n",
       "      <td>[1, 1, 1]</td>\n",
       "    </tr>\n",
       "    <tr>\n",
       "      <th>204</th>\n",
       "      <td>623</td>\n",
       "      <td>[2890972, 2890975]</td>\n",
       "      <td>[1, 1]</td>\n",
       "    </tr>\n",
       "    <tr>\n",
       "      <th>247</th>\n",
       "      <td>797</td>\n",
       "      <td>[6906973, 6906977]</td>\n",
       "      <td>[1, 1]</td>\n",
       "    </tr>\n",
       "    <tr>\n",
       "      <th>265</th>\n",
       "      <td>857</td>\n",
       "      <td>[5529882, 5529883]</td>\n",
       "      <td>[1, 1]</td>\n",
       "    </tr>\n",
       "    <tr>\n",
       "      <th>...</th>\n",
       "      <td>...</td>\n",
       "      <td>...</td>\n",
       "      <td>...</td>\n",
       "    </tr>\n",
       "    <tr>\n",
       "      <th>502810</th>\n",
       "      <td>1185631</td>\n",
       "      <td>[137014, 409549]</td>\n",
       "      <td>[1, 1]</td>\n",
       "    </tr>\n",
       "    <tr>\n",
       "      <th>502822</th>\n",
       "      <td>1185661</td>\n",
       "      <td>[8338479, 8338480]</td>\n",
       "      <td>[1, 1]</td>\n",
       "    </tr>\n",
       "    <tr>\n",
       "      <th>502844</th>\n",
       "      <td>1185698</td>\n",
       "      <td>[5044388, 5044391]</td>\n",
       "      <td>[1, 1]</td>\n",
       "    </tr>\n",
       "    <tr>\n",
       "      <th>502847</th>\n",
       "      <td>1185702</td>\n",
       "      <td>[4620566, 4620568]</td>\n",
       "      <td>[1, 1]</td>\n",
       "    </tr>\n",
       "    <tr>\n",
       "      <th>502920</th>\n",
       "      <td>1185828</td>\n",
       "      <td>[1523261, 1523266]</td>\n",
       "      <td>[1, 1]</td>\n",
       "    </tr>\n",
       "  </tbody>\n",
       "</table>\n",
       "<p>25352 rows × 3 columns</p>\n",
       "</div>"
      ],
      "text/plain": [
       "        query_id                  document_id      score\n",
       "73           202             [889051, 153578]     [1, 1]\n",
       "126          374  [4086051, 4086052, 4086057]  [1, 1, 1]\n",
       "204          623           [2890972, 2890975]     [1, 1]\n",
       "247          797           [6906973, 6906977]     [1, 1]\n",
       "265          857           [5529882, 5529883]     [1, 1]\n",
       "...          ...                          ...        ...\n",
       "502810   1185631             [137014, 409549]     [1, 1]\n",
       "502822   1185661           [8338479, 8338480]     [1, 1]\n",
       "502844   1185698           [5044388, 5044391]     [1, 1]\n",
       "502847   1185702           [4620566, 4620568]     [1, 1]\n",
       "502920   1185828           [1523261, 1523266]     [1, 1]\n",
       "\n",
       "[25352 rows x 3 columns]"
      ]
     },
     "execution_count": 8,
     "metadata": {},
     "output_type": "execute_result"
    }
   ],
   "source": [
    "# Only return rows that have multiple corpus-ids\n",
    "grouped_df[grouped_df['document_id'].map(len) > 1]"
   ]
  }
 ],
 "metadata": {
  "kernelspec": {
   "display_name": ".venv",
   "language": "python",
   "name": "python3"
  },
  "language_info": {
   "codemirror_mode": {
    "name": "ipython",
    "version": 3
   },
   "file_extension": ".py",
   "mimetype": "text/x-python",
   "name": "python",
   "nbconvert_exporter": "python",
   "pygments_lexer": "ipython3",
   "version": "3.11.5"
  },
  "orig_nbformat": 4
 },
 "nbformat": 4,
 "nbformat_minor": 2
}
