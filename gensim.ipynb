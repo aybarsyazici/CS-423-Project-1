{
 "cells": [
  {
   "cell_type": "code",
   "execution_count": 1,
   "metadata": {},
   "outputs": [],
   "source": [
    "import pandas as pd\n",
    "import json\n",
    "import helpers\n",
    "from tqdm.notebook import tqdm\n",
    "import numpy as np\n",
    "from nltk.stem import PorterStemmer, WordNetLemmatizer\n",
    "from nltk.corpus import stopwords\n",
    "from nltk.tokenize import word_tokenize\n",
    "import multiprocessing as mp\n",
    "import os \n",
    "import math\n",
    "from functools import partial\n",
    "\n",
    "DATA_DIR = 'data'\n",
    "\n",
    "stemmer = PorterStemmer()\n",
    "# Load the data from files\n",
    "with open(f'{DATA_DIR}/corpus.jsonl', 'r') as f:\n",
    "    corpus_data = {int(item['_id']): item['text'] for item in (json.loads(line) for line in f)}\n",
    "\n",
    "with open(f'{DATA_DIR}/queries.jsonl', 'r') as f:\n",
    "    queries_data = {int(item['_id']): item['text'] for item in (json.loads(line) for line in f)}\n",
    "\n",
    "train_data = pd.read_csv(f'{DATA_DIR}/task1_train.tsv', delimiter='\\t')\n",
    "test_data = pd.read_csv(f'{DATA_DIR}/task1_test.tsv', delimiter='\\t')\n",
    "\n",
    "# Rename corpus-id to document_id and query-id to query_id in both train and test data\n",
    "train_data = train_data.rename(columns={'corpus-id': 'document_id', 'query-id': 'query_id'})\n",
    "test_data = test_data.rename(columns={'corpus-id': 'document_id', 'query-id': 'query_id'})\n",
    "# Make sure that the document_id and query_id are int64\n",
    "train_data['document_id'] = train_data['document_id'].astype('int64')\n",
    "train_data['query_id'] = train_data['query_id'].astype('int64')"
   ]
  },
  {
   "cell_type": "code",
   "execution_count": 2,
   "metadata": {},
   "outputs": [],
   "source": [
    "# Create a df from the corpus data\n",
    "corpus_df = pd.DataFrame.from_dict(corpus_data, orient='index', columns=['text'])\n",
    "# Create a df from the queries data\n",
    "queries_df = pd.DataFrame.from_dict(queries_data, orient='index', columns=['text'])"
   ]
  },
  {
   "cell_type": "code",
   "execution_count": 3,
   "metadata": {},
   "outputs": [],
   "source": [
    "from gensim.test.utils import common_texts\n",
    "from gensim.models.doc2vec import Doc2Vec, TaggedDocument"
   ]
  },
  {
   "cell_type": "code",
   "execution_count": 4,
   "metadata": {},
   "outputs": [
    {
     "name": "stdout",
     "output_type": "stream",
     "text": [
      "Loading tokenized documents from pickle file...\n"
     ]
    }
   ],
   "source": [
    "# import partial\n",
    "from functools import partial\n",
    "\n",
    "# Check if documents.pkl exists:\n",
    "if os.path.isfile(f'{DATA_DIR}/documents.pkl'):\n",
    "    print('Loading tokenized documents from pickle file...')\n",
    "    # load the tokenized documents from pickle file\n",
    "    import pickle\n",
    "    with open(f'{DATA_DIR}/documents.pkl', 'rb') as f:\n",
    "        documents = pickle.load(f)\n",
    "else:\n",
    "    print('File not found. Tokenizing documents...')\n",
    "    documents = corpus_df['text'].tolist()\n",
    "    documents = [x.strip() for x in documents]\n",
    "    # use multiprocessing to speed up the process\n",
    "    pool = mp.Pool(mp.cpu_count())\n",
    "    # pass both documents and stemmer as arguments to the tokenize function\n",
    "    fn = partial(helpers.tokenize, stemmer=stemmer)   \n",
    "    documents = list(tqdm(pool.imap(fn, documents), total=len(documents))) \n",
    "    # save the tokenized documents as pickle file\n",
    "    import pickle\n",
    "    with open(f'{DATA_DIR}/documents.pkl', 'wb') as f:\n",
    "        pickle.dump(documents, f)"
   ]
  },
  {
   "cell_type": "code",
   "execution_count": 5,
   "metadata": {},
   "outputs": [
    {
     "data": {
      "application/vnd.jupyter.widget-view+json": {
       "model_id": "df07dc79ad4d4295a42fcecb65f55ce7",
       "version_major": 2,
       "version_minor": 0
      },
      "text/plain": [
       "0it [00:00, ?it/s]"
      ]
     },
     "metadata": {},
     "output_type": "display_data"
    }
   ],
   "source": [
    "tagged_documents = [TaggedDocument(doc, [i]) for i, doc in tqdm(enumerate(documents))]"
   ]
  },
  {
   "cell_type": "code",
   "execution_count": 6,
   "metadata": {},
   "outputs": [],
   "source": [
    "model = Doc2Vec(vector_size=400, epochs=40, workers=mp.cpu_count())\n",
    "model.build_vocab(tagged_documents)\n"
   ]
  },
  {
   "cell_type": "code",
   "execution_count": 7,
   "metadata": {},
   "outputs": [
    {
     "data": {
      "application/vnd.jupyter.widget-view+json": {
       "model_id": "d5a489f6bf3a441a96a7727b6067b53c",
       "version_major": 2,
       "version_minor": 0
      },
      "text/plain": [
       "  0%|          | 0/1471406 [00:00<?, ?it/s]"
      ]
     },
     "metadata": {},
     "output_type": "display_data"
    }
   ],
   "source": [
    "model.train(tqdm(tagged_documents), total_examples=len(tagged_documents), epochs=model.epochs)"
   ]
  },
  {
   "cell_type": "code",
   "execution_count": 8,
   "metadata": {},
   "outputs": [
    {
     "name": "stderr",
     "output_type": "stream",
     "text": [
      "/var/folders/jt/f2yqrnv562q34hfjkkskqwzw0000gn/T/ipykernel_307/2522894730.py:1: DeprecationWarning: Call to deprecated `docvecs` (The `docvecs` property has been renamed `dv`.).\n",
      "  len(model.docvecs[0])\n"
     ]
    },
    {
     "data": {
      "text/plain": [
       "400"
      ]
     },
     "execution_count": 8,
     "metadata": {},
     "output_type": "execute_result"
    }
   ],
   "source": [
    "len(model.docvecs[0])"
   ]
  },
  {
   "cell_type": "code",
   "execution_count": 9,
   "metadata": {},
   "outputs": [],
   "source": [
    "# import get tmpfile\n",
    "from gensim.test.utils import get_tmpfile\n",
    "\n",
    "fname = get_tmpfile(\"larger_400_doc2vec.model\")\n",
    "model.save(f'{DATA_DIR}/larger_400_doc2vec.model')\n",
    "# load model\n",
    "#model = Doc2Vec.load(f'{DATA_DIR}/larger_400_doc2vec.model')"
   ]
  },
  {
   "cell_type": "code",
   "execution_count": 10,
   "metadata": {},
   "outputs": [],
   "source": [
    "# get the first query\n",
    "query = queries_df.iloc[0]['text']"
   ]
  },
  {
   "cell_type": "code",
   "execution_count": 11,
   "metadata": {},
   "outputs": [],
   "source": [
    "query_vector = model.infer_vector(helpers.tokenize(query, stemmer=stemmer).split())"
   ]
  },
  {
   "cell_type": "code",
   "execution_count": 12,
   "metadata": {},
   "outputs": [
    {
     "name": "stderr",
     "output_type": "stream",
     "text": [
      "/var/folders/jt/f2yqrnv562q34hfjkkskqwzw0000gn/T/ipykernel_307/1092452515.py:1: DeprecationWarning: Call to deprecated `docvecs` (The `docvecs` property has been renamed `dv`.).\n",
      "  sims = model.docvecs.most_similar([query_vector]) #gives you top 10 document tags and their cosine similarity\n"
     ]
    }
   ],
   "source": [
    "sims = model.docvecs.most_similar([query_vector]) #gives you top 10 document tags and their cosine similarity"
   ]
  },
  {
   "cell_type": "code",
   "execution_count": 13,
   "metadata": {},
   "outputs": [
    {
     "data": {
      "text/plain": [
       "(400,)"
      ]
     },
     "execution_count": 13,
     "metadata": {},
     "output_type": "execute_result"
    }
   ],
   "source": [
    "query_vector.shape"
   ]
  },
  {
   "cell_type": "code",
   "execution_count": 14,
   "metadata": {},
   "outputs": [
    {
     "data": {
      "text/plain": [
       "[(1232382, 0.46403947472572327),\n",
       " (1081637, 0.42651697993278503),\n",
       " (1092058, 0.4058090150356293),\n",
       " (368150, 0.4055427312850952),\n",
       " (153597, 0.4009922444820404),\n",
       " (943251, 0.3986547887325287),\n",
       " (444550, 0.39261817932128906),\n",
       " (1397469, 0.3723812699317932),\n",
       " (320984, 0.3714607357978821),\n",
       " (1451430, 0.37132176756858826)]"
      ]
     },
     "execution_count": 14,
     "metadata": {},
     "output_type": "execute_result"
    }
   ],
   "source": [
    "sims"
   ]
  },
  {
   "cell_type": "code",
   "execution_count": 15,
   "metadata": {},
   "outputs": [
    {
     "name": "stdout",
     "output_type": "stream",
     "text": [
      "Query: )what was the immediate impact of the success of the manhattan project?\n",
      "\n",
      "Document: Information provided about Impact: Impact meaning in Hindi : Get meaning and translation of IMPACT in Hindi language with grammar,antonyms,synonyms and sentence usages. Know answer of question : what is meaning of Impact in Hindi dictionary? Impact ka matalab hindi me kya hai (Impact à¤à¤¾ à¤¹à¤¿à¤à¤¦à¥ à¤®à¥à¤ à¤®à¤¤à¤²à¤¬ ). Impact meaning in Hindi (à¤¹à¤¿à¤¨à¥à¤¦à¥ à¤®à¥ à¤®à¥à¤¨à¤¿à¤à¤ ) is à¤ªà¥à¤°à¤­à¤¾à¤µ.English definition of Impact : the striking of one body against another.\n",
      "Document ID: 3888081\n",
      "Similarity: 0.46403947472572327\n",
      "-------------------------------------------\n",
      "Document: As nouns the difference between compression and impaction is that compression is an increase in density; the act of compressing, or the state of being compressed; compaction while impaction is compression; the packing together of loose matter.\n",
      "Document ID: 1468309\n",
      "Similarity: 0.42651697993278503\n",
      "-------------------------------------------\n",
      "Document: When the motor neurons in the brainstem are affected (bulbar ALS), the muscles used in speech and swallowing are impaired. ALS only affects muscles that are moved voluntarily (such as those in the mouth or arm) and does not impact those muscles involved in involuntary movements, such as digestion.\n",
      "Document ID: 1639415\n",
      "Similarity: 0.4058090150356293\n",
      "-------------------------------------------\n",
      "Document: Depending on the severity of the impact, lesions can occur at all nerves in the brachial plexus. The location of impact also affects the severity of the injury and depending on the location the nerves of the brachial plexus may be ruptured or avulsed.\n",
      "Document ID: 5945431\n",
      "Similarity: 0.4055427312850952\n",
      "-------------------------------------------\n",
      "Document: Singular vs. Plural Use. Collective nouns usually function as singular nouns in a sentence, but they are occasionally used as plurals, too. Whether they are used in a singular or plural manner can impact which verbs and pronouns should be associated with the word.\n",
      "Document ID: 1256219\n",
      "Similarity: 0.4009922444820404\n",
      "-------------------------------------------\n",
      "Document: Stimulation Device Shows 'Immediate' Impact on Depression. Stimulation with a low-strength electromagnetic field device immediately improves mood in patients with major depressive disorder (MDD) and bipolar disorder (BPD), new research shows.\n",
      "Document ID: 8239683\n",
      "Similarity: 0.3986547887325287\n",
      "-------------------------------------------\n",
      "Document: Gallstones in bile duct leading to its enlargement: 1  Usually there is a long history of flatulent dyspepsia (eructation). 2  Frequent episodes of abdominal colic.  Pain is severe in the upper abdomen due to impaction of the gallstone in the bile duct. It is difficult to relieve this pain.\n",
      "Document ID: 8396867\n",
      "Similarity: 0.39261817932128906\n",
      "-------------------------------------------\n",
      "Document: UVA's Vice President for Diversity and Equity was honored by the city of Charlottesville for his impact on equality in the community.VA's Vice President for Diversity and Equity was honored by the city of Charlottesville for his impact on equality in the community.\n",
      "Document ID: 6302376\n",
      "Similarity: 0.3723812699317932\n",
      "-------------------------------------------\n",
      "Document: Executive summary. It's easy to add impact to your report or business plan with this executive summary template.\n",
      "Document ID: 1078916\n",
      "Similarity: 0.3714607357978821\n",
      "-------------------------------------------\n",
      "Document: Signs and Symptoms of an Impacted Colon. Because pressure is being placed on your abdomen, impaction can cause a loss of appetite. You will gain weight because the waste accumulates in your body and it has nowhere to go. When and if you decide to use a colon cleanser, you might lose several pounds.\n",
      "Document ID: 7879955\n",
      "Similarity: 0.37132176756858826\n",
      "-------------------------------------------\n"
     ]
    }
   ],
   "source": [
    "print(f'Query: {query}')\n",
    "print()\n",
    "for doc_id, score in sims:\n",
    "    print(f'Document: {corpus_df.iloc[doc_id][\"text\"]}')\n",
    "    print(f'Document ID: {corpus_df.index.values[doc_id]}')\n",
    "    print(f'Similarity: {score}')\n",
    "    print('-------------------------------------------')"
   ]
  },
  {
   "cell_type": "code",
   "execution_count": null,
   "metadata": {},
   "outputs": [],
   "source": []
  }
 ],
 "metadata": {
  "kernelspec": {
   "display_name": ".venv",
   "language": "python",
   "name": "python3"
  },
  "language_info": {
   "codemirror_mode": {
    "name": "ipython",
    "version": 3
   },
   "file_extension": ".py",
   "mimetype": "text/x-python",
   "name": "python",
   "nbconvert_exporter": "python",
   "pygments_lexer": "ipython3",
   "version": "3.11.5"
  },
  "orig_nbformat": 4
 },
 "nbformat": 4,
 "nbformat_minor": 2
}
