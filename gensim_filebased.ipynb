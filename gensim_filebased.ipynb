{
 "cells": [
  {
   "cell_type": "code",
   "execution_count": 1,
   "metadata": {},
   "outputs": [],
   "source": [
    "# inspired from: https://github.com/RaRe-Technologies/gensim/blob/develop/docs/notebooks/Any2Vec_Filebased.ipynb"
   ]
  },
  {
   "cell_type": "code",
   "execution_count": 2,
   "metadata": {},
   "outputs": [],
   "source": [
    "import pandas as pd\n",
    "import json\n",
    "import helpers\n",
    "from tqdm.notebook import tqdm\n",
    "import numpy as np\n",
    "from nltk.stem import PorterStemmer, WordNetLemmatizer\n",
    "from nltk.corpus import stopwords\n",
    "from nltk.tokenize import word_tokenize\n",
    "import multiprocessing as mp\n",
    "import os \n",
    "import math\n",
    "from functools import partial\n",
    "\n",
    "DATA_DIR = 'data'\n",
    "\n",
    "stemmer = PorterStemmer()\n",
    "# Load the data from files\n",
    "with open(f'{DATA_DIR}/corpus.jsonl', 'r') as f:\n",
    "    corpus_data = {int(item['_id']): item['text'] for item in (json.loads(line) for line in f)}\n",
    "\n",
    "with open(f'{DATA_DIR}/queries.jsonl', 'r') as f:\n",
    "    queries_data = {int(item['_id']): item['text'] for item in (json.loads(line) for line in f)}\n",
    "\n",
    "train_data = pd.read_csv(f'{DATA_DIR}/task1_train.tsv', delimiter='\\t')\n",
    "test_data = pd.read_csv(f'{DATA_DIR}/task1_test.tsv', delimiter='\\t')\n",
    "\n",
    "# Rename corpus-id to document_id and query-id to query_id in both train and test data\n",
    "train_data = train_data.rename(columns={'corpus-id': 'document_id', 'query-id': 'query_id'})\n",
    "test_data = test_data.rename(columns={'corpus-id': 'document_id', 'query-id': 'query_id'})\n",
    "# Make sure that the document_id and query_id are int64\n",
    "train_data['document_id'] = train_data['document_id'].astype('int64')\n",
    "train_data['query_id'] = train_data['query_id'].astype('int64')\n",
    "\n",
    "# Create a df from the corpus data\n",
    "corpus_df = pd.DataFrame.from_dict(corpus_data, orient='index', columns=['text'])\n",
    "# Create a df from the queries data\n",
    "queries_df = pd.DataFrame.from_dict(queries_data, orient='index', columns=['text'])"
   ]
  },
  {
   "cell_type": "code",
   "execution_count": 3,
   "metadata": {},
   "outputs": [],
   "source": [
    "documents = corpus_df.text.values.tolist()"
   ]
  },
  {
   "cell_type": "code",
   "execution_count": 4,
   "metadata": {},
   "outputs": [],
   "source": [
    "from gensim.parsing.preprocessing import preprocess_string\n",
    "\n",
    "# # Preprocess the documents\n",
    "# preprocessed_documents = [preprocess_string(document) for document in tqdm(documents, desc='Preprocessing documents', total=len(documents))]\n",
    "\n",
    "# from gensim.utils import save_as_line_sentence\n",
    "# # serialize the preprocessed corpus into a single file on disk, using memory-efficient streaming\n",
    "# save_as_line_sentence(preprocessed_documents, f'{DATA_DIR}/gensim_preprocessed_documents.txt')"
   ]
  },
  {
   "cell_type": "code",
   "execution_count": 5,
   "metadata": {},
   "outputs": [
    {
     "name": "stdout",
     "output_type": "stream",
     "text": [
      "Using 20 cores\n"
     ]
    }
   ],
   "source": [
    "from gensim.models.doc2vec import Doc2Vec, TaggedLineDocument\n",
    "import multiprocessing as mp\n",
    "\n",
    "\n",
    "print(f'Using {mp.cpu_count()} cores')\n",
    "# model = Doc2Vec(corpus_file=f'{DATA_DIR}/gensim_preprocessed_documents.txt', epochs=3, vector_size=600, workers=mp.cpu_count())\n",
    "\n",
    "# load the model from disk\n",
    "model = Doc2Vec.load(f'{DATA_DIR}/doc2vec_model')"
   ]
  },
  {
   "cell_type": "code",
   "execution_count": 6,
   "metadata": {},
   "outputs": [],
   "source": [
    "# save the model\n",
    "# model.save(f'{DATA_DIR}/doc2vec_model')"
   ]
  },
  {
   "cell_type": "code",
   "execution_count": 7,
   "metadata": {},
   "outputs": [],
   "source": [
    "# get the first query\n",
    "query = queries_df.iloc[0]['text']"
   ]
  },
  {
   "cell_type": "code",
   "execution_count": 8,
   "metadata": {},
   "outputs": [],
   "source": [
    "# preprocess the query\n",
    "preprocessed_query = preprocess_string(query)"
   ]
  },
  {
   "cell_type": "code",
   "execution_count": 9,
   "metadata": {},
   "outputs": [],
   "source": [
    "query_vector = model.infer_vector(preprocessed_query)"
   ]
  },
  {
   "cell_type": "code",
   "execution_count": 10,
   "metadata": {},
   "outputs": [
    {
     "name": "stdout",
     "output_type": "stream",
     "text": [
      "10\n"
     ]
    }
   ],
   "source": [
    "sims = model.dv.most_similar([query_vector])\n",
    "print(len(sims))"
   ]
  },
  {
   "cell_type": "code",
   "execution_count": 11,
   "metadata": {},
   "outputs": [
    {
     "name": "stdout",
     "output_type": "stream",
     "text": [
      "Query: )what was the immediate impact of the success of the manhattan project?\n",
      "\n",
      "Document: Manhattan: Annual Weather Averages. July is the hottest month in Manhattan with an average temperature of 25Â°C (77Â°F) and the coldest is January at 2Â°C (35Â°F). The wettest month is August with an average of 130mm of rain. Loading weather data.\n",
      "Document ID: 349384\n",
      "Similarity: 0.5778313875198364\n",
      "-------------------------------------------\n",
      "Document: Information provided about Impact: Impact meaning in Hindi : Get meaning and translation of IMPACT in Hindi language with grammar,antonyms,synonyms and sentence usages. Know answer of question : what is meaning of Impact in Hindi dictionary? Impact ka matalab hindi me kya hai (Impact à¤à¤¾ à¤¹à¤¿à¤à¤¦à¥ à¤®à¥à¤ à¤®à¤¤à¤²à¤¬ ). Impact meaning in Hindi (à¤¹à¤¿à¤¨à¥à¤¦à¥ à¤®à¥ à¤®à¥à¤¨à¤¿à¤à¤ ) is à¤ªà¥à¤°à¤­à¤¾à¤µ.English definition of Impact : the striking of one body against another.\n",
      "Document ID: 3888081\n",
      "Similarity: 0.5301682949066162\n",
      "-------------------------------------------\n",
      "Document: Momentum is a measurement of mass in motion. Any object that is moving has momentum. In physics, momentum of an object is equal to the mass times the velocity. where p is the momentum, m is the mass, and v is the velocity. From this equation you can see that both the velocity of the object and the mass have an equal impact on the amount of momentum.\n",
      "Document ID: 1957203\n",
      "Similarity: 0.5092935562133789\n",
      "-------------------------------------------\n",
      "Document: Driving distance from LAX to Manhattan Beach, CA. The total driving distance from LAX to Manhattan Beach, CA is 5 miles or 8 kilometers. Your trip begins at Los Angeles International Airport in Los Angeles, California. It ends in Manhattan Beach, California. If you are planning a road trip, you might also want to calculate the total driving time from LAX to Manhattan Beach, CA so you can see when you'll arrive at your destination.\n",
      "Document ID: 2802611\n",
      "Similarity: 0.4970652759075165\n",
      "-------------------------------------------\n",
      "Document: Quick Answer. Manhattan is 13.4 miles long. Its widest point is 2.3 miles, and its narrowest point is 0.8 mile. Manhattan covers a total area of 23.7 square miles. Continue Reading.\n",
      "Document ID: 685174\n",
      "Similarity: 0.49063414335250854\n",
      "-------------------------------------------\n",
      "Document: Manhattan, Kansas is GMT/UTC - 6h during Standard Time Manhattan, Kansas is GMT/UTC - 5h during Daylight Saving Time.anhattan, Kansas is GMT/UTC - 6h during Standard Time Manhattan, Kansas is GMT/UTC - 5h during Daylight Saving Time.\n",
      "Document ID: 4995478\n",
      "Similarity: 0.4845605194568634\n",
      "-------------------------------------------\n",
      "Document: A sprain and a strain are both minor injuries, not fractured bones that impact the soft tissue of muscles, ligaments, and tendons. The difference between a strain and a sprain is that a strain is an injury to a muscle or tendon and a sprain has affected ligament tissue.Both occur at joints where ligaments connect bone to bone and tendons connect bone to muscles.he difference between a strain and a sprain is that a strain is an injury to a muscle or tendon and a sprain has affected ligament tissue.\n",
      "Document ID: 7557966\n",
      "Similarity: 0.4747011661529541\n",
      "-------------------------------------------\n",
      "Document: There are several different types of child custody: 1  Legal Custody: Parents who have legal custody are able to make legal decisions on matters impacting the child. 2  Physical Custody: Children live with parents who have physical custody. 3  Sole Custody: One parent has both physical and legal custody of the child.\n",
      "Document ID: 6277992\n",
      "Similarity: 0.4737619161605835\n",
      "-------------------------------------------\n",
      "Document: Shooter (TV series) Shooter is an American television drama series based on the novel Point of Impact by Stephen Hunter and the 2007 film of the same name. The show stars Ryan Phillippe in the lead role of Bob Lee Swagger an expert marksman living in exile who is coaxed back into action after learning of a plot to kill the president.\n",
      "Document ID: 6818815\n",
      "Similarity: 0.45606550574302673\n",
      "-------------------------------------------\n",
      "Document: Scope.of.the.Problem.....................................................................................................................16. 3 .. imPact.of.neglect..............................................................................................................\n",
      "Document ID: 7586522\n",
      "Similarity: 0.4546685218811035\n",
      "-------------------------------------------\n"
     ]
    },
    {
     "ename": "",
     "evalue": "",
     "output_type": "error",
     "traceback": [
      "\u001b[1;31mThe Kernel crashed while executing code in the the current cell or a previous cell. Please review the code in the cell(s) to identify a possible cause of the failure. Click <a href='https://aka.ms/vscodeJupyterKernelCrash'>here</a> for more info. View Jupyter <a href='command:jupyter.viewOutput'>log</a> for further details."
     ]
    }
   ],
   "source": [
    "print(f'Query: {query}')\n",
    "print()\n",
    "for doc_id, score in sims:\n",
    "    print(f'Document: {corpus_df.iloc[doc_id][\"text\"]}')\n",
    "    print(f'Document ID: {corpus_df.index.values[doc_id]}')\n",
    "    print(f'Similarity: {score}')\n",
    "    print('-------------------------------------------')"
   ]
  },
  {
   "cell_type": "code",
   "execution_count": null,
   "metadata": {},
   "outputs": [],
   "source": []
  }
 ],
 "metadata": {
  "kernelspec": {
   "display_name": ".venv",
   "language": "python",
   "name": "python3"
  },
  "language_info": {
   "codemirror_mode": {
    "name": "ipython",
    "version": 3
   },
   "file_extension": ".py",
   "mimetype": "text/x-python",
   "name": "python",
   "nbconvert_exporter": "python",
   "pygments_lexer": "ipython3",
   "version": "3.10.12"
  }
 },
 "nbformat": 4,
 "nbformat_minor": 2
}
